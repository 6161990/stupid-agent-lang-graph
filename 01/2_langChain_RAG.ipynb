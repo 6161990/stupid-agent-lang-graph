{
 "cells": [
  {
   "metadata": {
    "ExecuteTime": {
     "end_time": "2025-03-09T10:20:04.017013Z",
     "start_time": "2025-03-09T10:20:04.007663Z"
    }
   },
   "cell_type": "code",
   "source": [
    "# API KEY를 환경변수로 관리하기 위한 설정 파일\n",
    "from dotenv import load_dotenv\n",
    "\n",
    "# API KEY 정보로드\n",
    "load_dotenv()"
   ],
   "id": "b8d283ea3bbe4b46",
   "outputs": [
    {
     "data": {
      "text/plain": [
       "True"
      ]
     },
     "execution_count": 1,
     "metadata": {},
     "output_type": "execute_result"
    }
   ],
   "execution_count": 1
  },
  {
   "metadata": {
    "ExecuteTime": {
     "end_time": "2025-03-09T10:20:06.190945Z",
     "start_time": "2025-03-09T10:20:05.548779Z"
    }
   },
   "cell_type": "code",
   "source": [
    "# 상태 설정\n",
    "# State는 TypedDict를 상속한 딕셔너리 타입입니다.\n",
    "# messages 키는 list 타입이어야 하며, 추가로 add_messages 라는 메타데이터 또는 검증 규칙이 부여되어 있습니다.\n",
    "from typing import Annotated\n",
    "from typing_extensions import TypedDict\n",
    "from langgraph.graph.message import add_messages\n",
    "\n",
    "class State(TypedDict):\n",
    "    messages: Annotated[list, add_messages]"
   ],
   "id": "9b6ef1bb93c98000",
   "outputs": [],
   "execution_count": 2
  },
  {
   "metadata": {
    "ExecuteTime": {
     "end_time": "2025-03-09T10:20:09.473317Z",
     "start_time": "2025-03-09T10:20:06.941316Z"
    }
   },
   "cell_type": "code",
   "source": [
    "# ToolNode로 도구 노드 구축\n",
    "# TavilySearchResults는 LangChain 커뮤니티 툴 중 하나\n",
    "# 웹 검색하는 역할임. max_results=2 검색 결과를 최대 2개까지 가져오도록 세팅.\n",
    "# tools_condition은 보통 어떤 조건에서 도구를 사용할지 결정하는 규칙이나 함수\n",
    "# ToolNode는 전달받은 tools를 사용해 특정 작업을 수행\n",
    "from langchain_community.tools.tavily_search import TavilySearchResults\n",
    "from langgraph.prebuilt import ToolNode, tools_condition\n",
    "\n",
    "tool = TavilySearchResults(max_results=2)\n",
    "tools = [tool]\n",
    "tool_node = ToolNode(tools)"
   ],
   "id": "a120bf8fa5d0314a",
   "outputs": [],
   "execution_count": 3
  },
  {
   "metadata": {},
   "cell_type": "markdown",
   "source": [
    "### ToolNode?\n",
    "import json\n",
    "from langchain_core.messages import ToolMessage\n",
    "\n",
    "class BasicToolNode:\n",
    "    \"\"\"A node that runs the tools requested in the last AIMessage.\"\"\"\n",
    "\n",
    "    def __init__(self, tools: list) -> None:\n",
    "        self.tools_by_name = {tool.name: tool for tool in tools}\n",
    "\n",
    "    def __call__(self, inputs: dict):\n",
    "        if messages := inputs.get(\"messages\", []):\n",
    "            message = messages[-1]\n",
    "        else:\n",
    "            raise ValueError(\"No message found in input\")\n",
    "        outputs = []\n",
    "        for tool_call in message.tool_calls:\n",
    "            tool_result = self.tools_by_name[tool_call[\"name\"]].invoke(\n",
    "                tool_call[\"args\"]\n",
    "            )\n",
    "            outputs.append(\n",
    "                ToolMessage(\n",
    "                    content=json.dumps(tool_result),\n",
    "                    name=tool_call[\"name\"],\n",
    "                    tool_call_id=tool_call[\"id\"],\n",
    "                )\n",
    "            )\n",
    "        return {\"messages\": outputs}"
   ],
   "id": "d3b2d67127a2c63b"
  },
  {
   "metadata": {
    "ExecuteTime": {
     "end_time": "2025-03-09T10:20:14.417339Z",
     "start_time": "2025-03-09T10:20:13.884280Z"
    }
   },
   "cell_type": "code",
   "source": [
    "from langchain_openai import ChatOpenAI\n",
    "\n",
    "llm = ChatOpenAI(model=\"gpt-4o-mini\")\n",
    "llm_with_tools = llm.bind_tools(tools)\n",
    "\n",
    "def chatbot(state: State):\n",
    "    result = llm_with_tools.invoke(state[\"messages\"])\n",
    "    return {\"messages\": [result]}"
   ],
   "id": "9909da611140cd12",
   "outputs": [],
   "execution_count": 4
  },
  {
   "metadata": {
    "ExecuteTime": {
     "end_time": "2025-03-09T10:20:15.928157Z",
     "start_time": "2025-03-09T10:20:15.919289Z"
    }
   },
   "cell_type": "code",
   "source": [
    "from langgraph.graph import StateGraph\n",
    "\n",
    "graph_builder = StateGraph(State)\n",
    "\n",
    "graph_builder.add_node(\"chatbot\", chatbot) # llm 실행할 chatbot\n",
    "graph_builder.add_node(\"tools\", tool_node)\n",
    "\n",
    "graph_builder.add_edge(\"tools\", \"chatbot\") # tools , chatbot 사이에 엣지 그어줌. 시작점과 끝\n",
    "graph_builder.add_conditional_edges(\"chatbot\", tools_condition) # tool 이 필요한 경우인지 판단\n",
    "\n",
    "graph_builder.set_entry_point(\"chatbot\") # 사용자의 질문을 chatbot 이 받을 수 있는 포인트\n",
    "graph = graph_builder.compile()"
   ],
   "id": "4b8416f8f027b10e",
   "outputs": [],
   "execution_count": 5
  },
  {
   "metadata": {
    "ExecuteTime": {
     "end_time": "2025-03-09T10:20:25.694215Z",
     "start_time": "2025-03-09T10:20:17.545159Z"
    }
   },
   "cell_type": "code",
   "source": [
    "# llm 이 실시간 검색을 필요로 하는 질문\n",
    "# additional_kwargs 로 tool_calls 로 tavily_search_results_json 가 활용됨\n",
    "graph.invoke({\"messages\": {\"role\": \"user\", \"content\": \"지금 한국 대통령은 누구야?\"}})"
   ],
   "id": "11800860ed1af8a5",
   "outputs": [
    {
     "data": {
      "text/plain": [
       "{'messages': [HumanMessage(content='지금 한국 대통령은 누구야?', additional_kwargs={}, response_metadata={}, id='c4fb546d-7498-48be-b539-c595932eaf86'),\n",
       "  AIMessage(content='', additional_kwargs={'tool_calls': [{'id': 'call_9tXpEleoc9dGjU6e9XWirwzU', 'function': {'arguments': '{\"query\":\"현재 대한민국 대통령\"}', 'name': 'tavily_search_results_json'}, 'type': 'function'}], 'refusal': None}, response_metadata={'token_usage': {'completion_tokens': 21, 'prompt_tokens': 87, 'total_tokens': 108, 'completion_tokens_details': {'accepted_prediction_tokens': 0, 'audio_tokens': 0, 'reasoning_tokens': 0, 'rejected_prediction_tokens': 0}, 'prompt_tokens_details': {'audio_tokens': 0, 'cached_tokens': 0}}, 'model_name': 'gpt-4o-mini-2024-07-18', 'system_fingerprint': 'fp_06737a9306', 'finish_reason': 'tool_calls', 'logprobs': None}, id='run-1672b9d4-0ea0-4aed-aaf5-49cf27478f6d-0', tool_calls=[{'name': 'tavily_search_results_json', 'args': {'query': '현재 대한민국 대통령'}, 'id': 'call_9tXpEleoc9dGjU6e9XWirwzU', 'type': 'tool_call'}], usage_metadata={'input_tokens': 87, 'output_tokens': 21, 'total_tokens': 108, 'input_token_details': {'audio': 0, 'cache_read': 0}, 'output_token_details': {'audio': 0, 'reasoning': 0}}),\n",
       "  ToolMessage(content='[{\"url\": \"https://namu.wiki/w/%EB%8C%80%ED%95%9C%EB%AF%BC%EA%B5%AD%20%EB%8C%80%ED%86%B5%EB%A0%B9\", \"content\": \"대한민국의 현직 대통령은 제20대 윤석열이며, 임기는 2022년 5월 10일부터 2027년 5월 9일까지이다.\"}, {\"url\": \"https://www.president.go.kr/\", \"content\": \"尹 대통령, \\'다시 대한민국!, 울산과 대한민국의 새로운 도약\\'을 주제로 열세 번째 ｢국민과 함께하는 민생토론회｣ 개최 · 윤석열 대통령, \\'다시 대한민국!, 울산과 대한민국의 새로운 도약\\'을 주제로 열세 번째 ｢국민과 함께하는 민생토론회｣ 개최 - 지역전략산업 GB해제총량 예외 인정 등 획일적 토지규제 20년만에 전면 개편 - - 농지 이용 규제 개선, 신속 정비로 농업의 첨단화, 농촌소멸 대응 - - 토지 이용 규제 336종에 대한 전수조사, 낡은 규제 철폐 추진 - - 울산형 교육특구 적극 지원, 여가시설 확충 등 생활여건 개선 - 윤석열 대통령은 오늘(2.\"}]', name='tavily_search_results_json', id='7907ee9c-14a5-4636-8e58-f5f7c07ed927', tool_call_id='call_9tXpEleoc9dGjU6e9XWirwzU', artifact={'query': '현재 대한민국 대통령', 'follow_up_questions': None, 'answer': None, 'images': [], 'results': [{'url': 'https://namu.wiki/w/%EB%8C%80%ED%95%9C%EB%AF%BC%EA%B5%AD%20%EB%8C%80%ED%86%B5%EB%A0%B9', 'title': '대한민국 대통령 - 나무위키', 'content': '대한민국의 현직 대통령은 제20대 윤석열이며, 임기는 2022년 5월 10일부터 2027년 5월 9일까지이다.', 'score': 0.8740022, 'raw_content': None}, {'url': 'https://www.president.go.kr/', 'title': '대한민국 대통령실', 'content': \"尹 대통령, '다시 대한민국!, 울산과 대한민국의 새로운 도약'을 주제로 열세 번째 ｢국민과 함께하는 민생토론회｣ 개최 · 윤석열 대통령, '다시 대한민국!, 울산과 대한민국의 새로운 도약'을 주제로 열세 번째 ｢국민과 함께하는 민생토론회｣ 개최 - 지역전략산업 GB해제총량 예외 인정 등 획일적 토지규제 20년만에 전면 개편 - - 농지 이용 규제 개선, 신속 정비로 농업의 첨단화, 농촌소멸 대응 - - 토지 이용 규제 336종에 대한 전수조사, 낡은 규제 철폐 추진 - - 울산형 교육특구 적극 지원, 여가시설 확충 등 생활여건 개선 - 윤석열 대통령은 오늘(2.\", 'score': 0.37579864, 'raw_content': None}], 'response_time': 1.54}),\n",
       "  AIMessage(content='현재 대한민국의 대통령은 윤석열입니다. 그는 제20대 대통령으로, 임기는 2022년 5월 10일부터 2027년 5월 9일까지입니다. 추가 정보는 [여기](https://namu.wiki/w/%EB%8C%80%ED%95%9C%EB%AF%BC%EA%B5%AD%20%EB%8C%80%ED%86%B5%EB%A0%B9)에서 확인할 수 있습니다.', additional_kwargs={'refusal': None}, response_metadata={'token_usage': {'completion_tokens': 111, 'prompt_tokens': 434, 'total_tokens': 545, 'completion_tokens_details': {'accepted_prediction_tokens': 0, 'audio_tokens': 0, 'reasoning_tokens': 0, 'rejected_prediction_tokens': 0}, 'prompt_tokens_details': {'audio_tokens': 0, 'cached_tokens': 0}}, 'model_name': 'gpt-4o-mini-2024-07-18', 'system_fingerprint': 'fp_06737a9306', 'finish_reason': 'stop', 'logprobs': None}, id='run-b6ddef17-f02b-4dfb-8308-57bd713a2065-0', usage_metadata={'input_tokens': 434, 'output_tokens': 111, 'total_tokens': 545, 'input_token_details': {'audio': 0, 'cache_read': 0}, 'output_token_details': {'audio': 0, 'reasoning': 0}})]}"
      ]
     },
     "execution_count": 6,
     "metadata": {},
     "output_type": "execute_result"
    }
   ],
   "execution_count": 6
  },
  {
   "metadata": {
    "ExecuteTime": {
     "end_time": "2025-03-09T10:21:09.115239Z",
     "start_time": "2025-03-09T10:21:05.355767Z"
    }
   },
   "cell_type": "code",
   "source": [
    "# llm 이 바로 답할 수 있는 질문\n",
    "# tool_calls 가 활용되지않음.\n",
    "graph.invoke({\"messages\": {\"role\": \"user\", \"content\": \"마이크로소프트가 어떤 회사야?\"}})"
   ],
   "id": "afc80893affe08c3",
   "outputs": [
    {
     "data": {
      "text/plain": [
       "{'messages': [HumanMessage(content='마이크로소프트가 어떤 회사야?', additional_kwargs={}, response_metadata={}, id='e7ad5a5a-e9ae-4d9b-a278-57f01454c66f'),\n",
       "  AIMessage(content='마이크로소프트(Microsoft)는 미국의 다국적 기술 기업으로, 컴퓨터 소프트웨어, 전자 기기, 개인용 컴퓨터 및 관련 서비스 개발에 주력하고 있습니다. 1975년에 빌 게이츠(Bill Gates)와 폴 앨런(Paul Allen)에 의해 설립된 이 회사는 세계에서 가장 큰 소프트웨어 기업 중 하나로 알려져 있습니다.\\n\\n가장 유명한 제품은 운영 체제인 Windows와 사무용 소프트웨어인 Microsoft Office입니다. 또한, Azure라는 클라우드 컴퓨팅 서비스, Xbox 게임 콘솔, Surface 태블릿과 같은 하드웨어 제품도 제공합니다.\\n\\n마이크로소프트는 기업 및 개인 사용자를 위한 다양한 솔루션과 서비스를 제공하며, 기술 혁신과 지속적인 연구 개발에 중점을 둡니다. 전 세계적으로 많은 사람들이 마이크로소프트의 제품과 서비스를 사용하고 있습니다.', additional_kwargs={'refusal': None}, response_metadata={'token_usage': {'completion_tokens': 196, 'prompt_tokens': 89, 'total_tokens': 285, 'completion_tokens_details': {'accepted_prediction_tokens': 0, 'audio_tokens': 0, 'reasoning_tokens': 0, 'rejected_prediction_tokens': 0}, 'prompt_tokens_details': {'audio_tokens': 0, 'cached_tokens': 0}}, 'model_name': 'gpt-4o-mini-2024-07-18', 'system_fingerprint': 'fp_06737a9306', 'finish_reason': 'stop', 'logprobs': None}, id='run-638fba71-569e-4ee6-aab2-3085ffd13305-0', usage_metadata={'input_tokens': 89, 'output_tokens': 196, 'total_tokens': 285, 'input_token_details': {'audio': 0, 'cache_read': 0}, 'output_token_details': {'audio': 0, 'reasoning': 0}})]}"
      ]
     },
     "execution_count": 7,
     "metadata": {},
     "output_type": "execute_result"
    }
   ],
   "execution_count": 7
  },
  {
   "metadata": {},
   "cell_type": "markdown",
   "source": "",
   "id": "2bff2824d36fbd4e"
  }
 ],
 "metadata": {
  "kernelspec": {
   "display_name": "Python 3",
   "language": "python",
   "name": "python3"
  },
  "language_info": {
   "codemirror_mode": {
    "name": "ipython",
    "version": 2
   },
   "file_extension": ".py",
   "mimetype": "text/x-python",
   "name": "python",
   "nbconvert_exporter": "python",
   "pygments_lexer": "ipython2",
   "version": "2.7.6"
  }
 },
 "nbformat": 4,
 "nbformat_minor": 5
}
