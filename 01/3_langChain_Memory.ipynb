{
 "cells": [
  {
   "metadata": {
    "ExecuteTime": {
     "end_time": "2025-03-09T10:25:09.036731Z",
     "start_time": "2025-03-09T10:25:09.026176Z"
    }
   },
   "cell_type": "code",
   "source": [
    "# API KEY를 환경변수로 관리하기 위한 설정 파일\n",
    "from dotenv import load_dotenv\n",
    "\n",
    "# API KEY 정보로드\n",
    "load_dotenv()"
   ],
   "id": "b8d283ea3bbe4b46",
   "outputs": [
    {
     "data": {
      "text/plain": [
       "True"
      ]
     },
     "execution_count": 2,
     "metadata": {},
     "output_type": "execute_result"
    }
   ],
   "execution_count": 2
  },
  {
   "metadata": {
    "ExecuteTime": {
     "end_time": "2025-03-09T10:25:09.927202Z",
     "start_time": "2025-03-09T10:25:09.877697Z"
    }
   },
   "cell_type": "code",
   "source": [
    "from typing import Annotated\n",
    "from typing_extensions import TypedDict\n",
    "from langgraph.graph.message import add_messages\n",
    "from langchain_community.tools.tavily_search import TavilySearchResults\n",
    "from langgraph.prebuilt import ToolNode, tools_condition\n",
    "from langchain_openai import ChatOpenAI\n",
    "from langgraph.graph import StateGraph\n",
    "\n",
    "from langgraph.checkpoint.memory import MemorySaver\n",
    "\n",
    "memory = MemorySaver() # 그래프의 기억력이 유지하도록 한다. postgresMemorySaver 는 글로벌!\n",
    "\n",
    "class State(TypedDict):\n",
    "    messages: Annotated[list, add_messages]\n",
    "\n",
    "tool = TavilySearchResults(max_results=2)\n",
    "tools = [tool]\n",
    "tool_node = ToolNode(tools)\n",
    "\n",
    "llm = ChatOpenAI(model=\"gpt-4o-mini\")\n",
    "llm_with_tools = llm.bind_tools(tools)\n",
    "\n",
    "def chatbot(state: State):\n",
    "    result = llm_with_tools.invoke(state[\"messages\"])\n",
    "    return {\"messages\": [result]}\n",
    "\n",
    "graph_builder = StateGraph(State)\n",
    "\n",
    "graph_builder.add_node(\"chatbot\", chatbot)\n",
    "graph_builder.add_node(\"tools\", tool_node)\n",
    "\n",
    "graph_builder.add_edge(\"tools\", \"chatbot\")\n",
    "graph_builder.add_conditional_edges(\"chatbot\", tools_condition)\n",
    "\n",
    "graph_builder.set_entry_point(\"chatbot\")\n",
    "graph = graph_builder.compile(checkpointer=memory) # 특정 스레드에 한해서 대화의 기억이 유지됨"
   ],
   "id": "a0bcb496e68e16c7",
   "outputs": [],
   "execution_count": 3
  },
  {
   "metadata": {
    "ExecuteTime": {
     "end_time": "2025-03-09T10:32:54.221043Z",
     "start_time": "2025-03-09T10:32:23.249486Z"
    }
   },
   "cell_type": "code",
   "source": [
    "# 대화의 스레드를 id 로 지정 id ㄱㅏ 유지되는 한 기억을 지속할 수 있음\n",
    "config = {\"configurable\": {\"thread_id\": \"1\"}}\n",
    "while True:\n",
    "    user_input = input(\"User: \")\n",
    "    if user_input.lower() in [\"quit\", \"exit\", \"q\"]:\n",
    "        print(\"Goodbye!\")\n",
    "        break\n",
    "    for event in graph.stream({\"messages\": (\"user\", user_input)}, config):\n",
    "        for value in event.values():\n",
    "            print(\"Assistant:\", value[\"messages\"][-1].content)"
   ],
   "id": "e70b92d4f25f09b6",
   "outputs": [
    {
     "name": "stdout",
     "output_type": "stream",
     "text": [
      "Assistant: \n",
      "Assistant: [{\"url\": \"https://namu.wiki/w/%EB%8C%80%ED%95%9C%EB%AF%BC%EA%B5%AD%20%EB%8C%80%ED%86%B5%EB%A0%B9\", \"content\": \"대한민국의 현직 대통령은 제20대 윤석열이며, 임기는 2022년 5월 10일부터 2027년 5월 9일까지이다.\"}, {\"url\": \"https://ko.wikipedia.org/wiki/%EB%8C%80%ED%95%9C%EB%AF%BC%EA%B5%AD_%EB%8C%80%ED%86%B5%EB%A0%B9\", \"content\": \"편집 대통령은 헌법과 법률이 정하는 바에 의하여 국군을 통수한다(헌법 제74조).[9] 다만 군사에 관한 중요사항의 경우 국가안전보장회의의 자문과 국무회의의 심의를 거쳐 국무총리와 관계 국무위원이 부서한 문서로 하여야 하며(헌법 제91조, 제89조 제6호, 제82조), 선전포고나 국군의 외국 파견 등에는 국회의 사전 동의를 필요로 한다(헌법 제60조 제2항). 대통령은 국무회의의 심의를 거쳐(헌법 제89조 제3호) 헌법개정안을 발안할 수 있다(헌법 제128조 제1항). 헌법 제79조 제1항은 “대통령은 법률이 정하는 바에 의하여 사면·감형 또는 복권을 명할 수 있다”, \\\"일반 사면은 국회의 동의를 거쳐야 한다\\\"고 하여 대통령의 사면권을 규정하고 있으며, 이에 따라 사면법이 정해져 있다.[12] 대한민국의 대통령 권한대행[편집] 이 직위는 대한민국 헌법 제71조 \\\"대통령이 궐위되거나 사고로 인하여 직무를 수행할 수 없을 때에는 국무총리, 법률이 정한 국무위원의 순서로 그 권한을 대행한다.\\\"에 규정되어 있다.\"}]\n",
      "Assistant: 현재 대한민국의 대통령은 제20대 윤석열이며, 그의 임기는 2022년 5월 10일부터 2027년 5월 9일까지입니다. 더 자세한 정보는 [여기](https://namu.wiki/w/%EB%8C%80%ED%95%9C%EB%AF%BC%EA%B5%AD%20%EB%8C%80%ED%86%B5%EB%A0%B9)에서 확인할 수 있습니다.\n",
      "Assistant: 첫 질문은 \"대한민국 대통령은 누구야?\"였습니다.\n"
     ]
    },
    {
     "ename": "KeyboardInterrupt",
     "evalue": "Interrupted by user",
     "output_type": "error",
     "traceback": [
      "\u001B[31m---------------------------------------------------------------------------\u001B[39m",
      "\u001B[31mKeyboardInterrupt\u001B[39m                         Traceback (most recent call last)",
      "\u001B[36mCell\u001B[39m\u001B[36m \u001B[39m\u001B[32mIn[4]\u001B[39m\u001B[32m, line 4\u001B[39m\n\u001B[32m      2\u001B[39m config = {\u001B[33m\"\u001B[39m\u001B[33mconfigurable\u001B[39m\u001B[33m\"\u001B[39m: {\u001B[33m\"\u001B[39m\u001B[33mthread_id\u001B[39m\u001B[33m\"\u001B[39m: \u001B[33m\"\u001B[39m\u001B[33m1\u001B[39m\u001B[33m\"\u001B[39m}}\n\u001B[32m      3\u001B[39m \u001B[38;5;28;01mwhile\u001B[39;00m \u001B[38;5;28;01mTrue\u001B[39;00m:\n\u001B[32m----> \u001B[39m\u001B[32m4\u001B[39m     user_input = \u001B[38;5;28;43minput\u001B[39;49m\u001B[43m(\u001B[49m\u001B[33;43m\"\u001B[39;49m\u001B[33;43mUser: \u001B[39;49m\u001B[33;43m\"\u001B[39;49m\u001B[43m)\u001B[49m\n\u001B[32m      5\u001B[39m     \u001B[38;5;28;01mif\u001B[39;00m user_input.lower() \u001B[38;5;129;01min\u001B[39;00m [\u001B[33m\"\u001B[39m\u001B[33mquit\u001B[39m\u001B[33m\"\u001B[39m, \u001B[33m\"\u001B[39m\u001B[33mexit\u001B[39m\u001B[33m\"\u001B[39m, \u001B[33m\"\u001B[39m\u001B[33mq\u001B[39m\u001B[33m\"\u001B[39m]:\n\u001B[32m      6\u001B[39m         \u001B[38;5;28mprint\u001B[39m(\u001B[33m\"\u001B[39m\u001B[33mGoodbye!\u001B[39m\u001B[33m\"\u001B[39m)\n",
      "\u001B[36mFile \u001B[39m\u001B[32m~/Git6161990/GitHub/stupid-agent/.venv/lib/python3.11/site-packages/ipykernel/kernelbase.py:1282\u001B[39m, in \u001B[36mKernel.raw_input\u001B[39m\u001B[34m(self, prompt)\u001B[39m\n\u001B[32m   1280\u001B[39m     msg = \u001B[33m\"\u001B[39m\u001B[33mraw_input was called, but this frontend does not support input requests.\u001B[39m\u001B[33m\"\u001B[39m\n\u001B[32m   1281\u001B[39m     \u001B[38;5;28;01mraise\u001B[39;00m StdinNotImplementedError(msg)\n\u001B[32m-> \u001B[39m\u001B[32m1282\u001B[39m \u001B[38;5;28;01mreturn\u001B[39;00m \u001B[38;5;28;43mself\u001B[39;49m\u001B[43m.\u001B[49m\u001B[43m_input_request\u001B[49m\u001B[43m(\u001B[49m\n\u001B[32m   1283\u001B[39m \u001B[43m    \u001B[49m\u001B[38;5;28;43mstr\u001B[39;49m\u001B[43m(\u001B[49m\u001B[43mprompt\u001B[49m\u001B[43m)\u001B[49m\u001B[43m,\u001B[49m\n\u001B[32m   1284\u001B[39m \u001B[43m    \u001B[49m\u001B[38;5;28;43mself\u001B[39;49m\u001B[43m.\u001B[49m\u001B[43m_parent_ident\u001B[49m\u001B[43m[\u001B[49m\u001B[33;43m\"\u001B[39;49m\u001B[33;43mshell\u001B[39;49m\u001B[33;43m\"\u001B[39;49m\u001B[43m]\u001B[49m\u001B[43m,\u001B[49m\n\u001B[32m   1285\u001B[39m \u001B[43m    \u001B[49m\u001B[38;5;28;43mself\u001B[39;49m\u001B[43m.\u001B[49m\u001B[43mget_parent\u001B[49m\u001B[43m(\u001B[49m\u001B[33;43m\"\u001B[39;49m\u001B[33;43mshell\u001B[39;49m\u001B[33;43m\"\u001B[39;49m\u001B[43m)\u001B[49m\u001B[43m,\u001B[49m\n\u001B[32m   1286\u001B[39m \u001B[43m    \u001B[49m\u001B[43mpassword\u001B[49m\u001B[43m=\u001B[49m\u001B[38;5;28;43;01mFalse\u001B[39;49;00m\u001B[43m,\u001B[49m\n\u001B[32m   1287\u001B[39m \u001B[43m\u001B[49m\u001B[43m)\u001B[49m\n",
      "\u001B[36mFile \u001B[39m\u001B[32m~/Git6161990/GitHub/stupid-agent/.venv/lib/python3.11/site-packages/ipykernel/kernelbase.py:1325\u001B[39m, in \u001B[36mKernel._input_request\u001B[39m\u001B[34m(self, prompt, ident, parent, password)\u001B[39m\n\u001B[32m   1322\u001B[39m \u001B[38;5;28;01mexcept\u001B[39;00m \u001B[38;5;167;01mKeyboardInterrupt\u001B[39;00m:\n\u001B[32m   1323\u001B[39m     \u001B[38;5;66;03m# re-raise KeyboardInterrupt, to truncate traceback\u001B[39;00m\n\u001B[32m   1324\u001B[39m     msg = \u001B[33m\"\u001B[39m\u001B[33mInterrupted by user\u001B[39m\u001B[33m\"\u001B[39m\n\u001B[32m-> \u001B[39m\u001B[32m1325\u001B[39m     \u001B[38;5;28;01mraise\u001B[39;00m \u001B[38;5;167;01mKeyboardInterrupt\u001B[39;00m(msg) \u001B[38;5;28;01mfrom\u001B[39;00m\u001B[38;5;250m \u001B[39m\u001B[38;5;28;01mNone\u001B[39;00m\n\u001B[32m   1326\u001B[39m \u001B[38;5;28;01mexcept\u001B[39;00m \u001B[38;5;167;01mException\u001B[39;00m:\n\u001B[32m   1327\u001B[39m     \u001B[38;5;28mself\u001B[39m.log.warning(\u001B[33m\"\u001B[39m\u001B[33mInvalid Message:\u001B[39m\u001B[33m\"\u001B[39m, exc_info=\u001B[38;5;28;01mTrue\u001B[39;00m)\n",
      "\u001B[31mKeyboardInterrupt\u001B[39m: Interrupted by user"
     ]
    }
   ],
   "execution_count": 4
  },
  {
   "metadata": {
    "ExecuteTime": {
     "end_time": "2025-03-09T11:07:22.650654Z",
     "start_time": "2025-03-09T11:07:22.632978Z"
    }
   },
   "cell_type": "code",
   "source": [
    "snapshot = graph.get_state(config)\n",
    "snapshot"
   ],
   "id": "604fa2a7b6bf8436",
   "outputs": [
    {
     "data": {
      "text/plain": [
       "StateSnapshot(values={'messages': [HumanMessage(content='대한민국 대통령은 누구야?', additional_kwargs={}, response_metadata={}, id='de6a069c-1e85-4f94-9ab7-70812409d71d'), AIMessage(content='', additional_kwargs={'tool_calls': [{'id': 'call_jncqfyjC2abSXBRFnG3cIcUa', 'function': {'arguments': '{\"query\":\"대한민국 대통령\"}', 'name': 'tavily_search_results_json'}, 'type': 'function'}], 'refusal': None}, response_metadata={'token_usage': {'completion_tokens': 21, 'prompt_tokens': 86, 'total_tokens': 107, 'completion_tokens_details': {'accepted_prediction_tokens': 0, 'audio_tokens': 0, 'reasoning_tokens': 0, 'rejected_prediction_tokens': 0}, 'prompt_tokens_details': {'audio_tokens': 0, 'cached_tokens': 0}}, 'model_name': 'gpt-4o-mini-2024-07-18', 'system_fingerprint': 'fp_06737a9306', 'finish_reason': 'tool_calls', 'logprobs': None}, id='run-78dc8eac-7075-42ea-b998-552dbec5cb1a-0', tool_calls=[{'name': 'tavily_search_results_json', 'args': {'query': '대한민국 대통령'}, 'id': 'call_jncqfyjC2abSXBRFnG3cIcUa', 'type': 'tool_call'}], usage_metadata={'input_tokens': 86, 'output_tokens': 21, 'total_tokens': 107, 'input_token_details': {'audio': 0, 'cache_read': 0}, 'output_token_details': {'audio': 0, 'reasoning': 0}}), ToolMessage(content='[{\"url\": \"https://namu.wiki/w/%EB%8C%80%ED%95%9C%EB%AF%BC%EA%B5%AD%20%EB%8C%80%ED%86%B5%EB%A0%B9\", \"content\": \"대한민국의 현직 대통령은 제20대 윤석열이며, 임기는 2022년 5월 10일부터 2027년 5월 9일까지이다.\"}, {\"url\": \"https://ko.wikipedia.org/wiki/%EB%8C%80%ED%95%9C%EB%AF%BC%EA%B5%AD_%EB%8C%80%ED%86%B5%EB%A0%B9\", \"content\": \"편집 대통령은 헌법과 법률이 정하는 바에 의하여 국군을 통수한다(헌법 제74조).[9] 다만 군사에 관한 중요사항의 경우 국가안전보장회의의 자문과 국무회의의 심의를 거쳐 국무총리와 관계 국무위원이 부서한 문서로 하여야 하며(헌법 제91조, 제89조 제6호, 제82조), 선전포고나 국군의 외국 파견 등에는 국회의 사전 동의를 필요로 한다(헌법 제60조 제2항). 대통령은 국무회의의 심의를 거쳐(헌법 제89조 제3호) 헌법개정안을 발안할 수 있다(헌법 제128조 제1항). 헌법 제79조 제1항은 “대통령은 법률이 정하는 바에 의하여 사면·감형 또는 복권을 명할 수 있다”, \\\\\"일반 사면은 국회의 동의를 거쳐야 한다\\\\\"고 하여 대통령의 사면권을 규정하고 있으며, 이에 따라 사면법이 정해져 있다.[12] 대한민국의 대통령 권한대행[편집] 이 직위는 대한민국 헌법 제71조 \\\\\"대통령이 궐위되거나 사고로 인하여 직무를 수행할 수 없을 때에는 국무총리, 법률이 정한 국무위원의 순서로 그 권한을 대행한다.\\\\\"에 규정되어 있다.\"}]', name='tavily_search_results_json', id='52b3c3a3-7f51-4e8a-bf22-5d96b52cd8e0', tool_call_id='call_jncqfyjC2abSXBRFnG3cIcUa', artifact={'query': '대한민국 대통령', 'follow_up_questions': None, 'answer': None, 'images': [], 'results': [{'url': 'https://namu.wiki/w/%EB%8C%80%ED%95%9C%EB%AF%BC%EA%B5%AD%20%EB%8C%80%ED%86%B5%EB%A0%B9', 'title': '대한민국 대통령 - 나무위키', 'content': '대한민국의 현직 대통령은 제20대 윤석열이며, 임기는 2022년 5월 10일부터 2027년 5월 9일까지이다.', 'score': 0.8479807, 'raw_content': None}, {'url': 'https://ko.wikipedia.org/wiki/%EB%8C%80%ED%95%9C%EB%AF%BC%EA%B5%AD_%EB%8C%80%ED%86%B5%EB%A0%B9', 'title': '대한민국 대통령 - 위키백과, 우리 모두의 백과사전', 'content': '편집 대통령은 헌법과 법률이 정하는 바에 의하여 국군을 통수한다(헌법 제74조).[9] 다만 군사에 관한 중요사항의 경우 국가안전보장회의의 자문과 국무회의의 심의를 거쳐 국무총리와 관계 국무위원이 부서한 문서로 하여야 하며(헌법 제91조, 제89조 제6호, 제82조), 선전포고나 국군의 외국 파견 등에는 국회의 사전 동의를 필요로 한다(헌법 제60조 제2항). 대통령은 국무회의의 심의를 거쳐(헌법 제89조 제3호) 헌법개정안을 발안할 수 있다(헌법 제128조 제1항). 헌법 제79조 제1항은 “대통령은 법률이 정하는 바에 의하여 사면·감형 또는 복권을 명할 수 있다”, \"일반 사면은 국회의 동의를 거쳐야 한다\"고 하여 대통령의 사면권을 규정하고 있으며, 이에 따라 사면법이 정해져 있다.[12] 대한민국의 대통령 권한대행[편집] 이 직위는 대한민국 헌법 제71조 \"대통령이 궐위되거나 사고로 인하여 직무를 수행할 수 없을 때에는 국무총리, 법률이 정한 국무위원의 순서로 그 권한을 대행한다.\"에 규정되어 있다.', 'score': 0.6762998, 'raw_content': None}], 'response_time': 2.28}), AIMessage(content='현재 대한민국의 대통령은 제20대 윤석열이며, 그의 임기는 2022년 5월 10일부터 2027년 5월 9일까지입니다. 더 자세한 정보는 [여기](https://namu.wiki/w/%EB%8C%80%ED%95%9C%EB%AF%BC%EA%B5%AD%20%EB%8C%80%ED%86%B5%EB%A0%B9)에서 확인할 수 있습니다.', additional_kwargs={'refusal': None}, response_metadata={'token_usage': {'completion_tokens': 110, 'prompt_tokens': 612, 'total_tokens': 722, 'completion_tokens_details': {'accepted_prediction_tokens': 0, 'audio_tokens': 0, 'reasoning_tokens': 0, 'rejected_prediction_tokens': 0}, 'prompt_tokens_details': {'audio_tokens': 0, 'cached_tokens': 0}}, 'model_name': 'gpt-4o-mini-2024-07-18', 'system_fingerprint': 'fp_06737a9306', 'finish_reason': 'stop', 'logprobs': None}, id='run-4c076049-d684-491c-a9ce-20bc18aadce9-0', usage_metadata={'input_tokens': 612, 'output_tokens': 110, 'total_tokens': 722, 'input_token_details': {'audio': 0, 'cache_read': 0}, 'output_token_details': {'audio': 0, 'reasoning': 0}}), HumanMessage(content='첫 질문이 뭐야?', additional_kwargs={}, response_metadata={}, id='cec7c79f-f169-4843-8241-79ef4fc2a240'), AIMessage(content='첫 질문은 \"대한민국 대통령은 누구야?\"였습니다.', additional_kwargs={'refusal': None}, response_metadata={'token_usage': {'completion_tokens': 15, 'prompt_tokens': 734, 'total_tokens': 749, 'completion_tokens_details': {'accepted_prediction_tokens': 0, 'audio_tokens': 0, 'reasoning_tokens': 0, 'rejected_prediction_tokens': 0}, 'prompt_tokens_details': {'audio_tokens': 0, 'cached_tokens': 0}}, 'model_name': 'gpt-4o-mini-2024-07-18', 'system_fingerprint': 'fp_06737a9306', 'finish_reason': 'stop', 'logprobs': None}, id='run-ea864c5c-1627-463b-a563-94f751f003f6-0', usage_metadata={'input_tokens': 734, 'output_tokens': 15, 'total_tokens': 749, 'input_token_details': {'audio': 0, 'cache_read': 0}, 'output_token_details': {'audio': 0, 'reasoning': 0}})]}, next=(), config={'configurable': {'thread_id': '1', 'checkpoint_ns': '', 'checkpoint_id': '1effcd1d-a7de-69ee-8006-8a50c32bd6c7'}}, metadata={'source': 'loop', 'writes': {'chatbot': {'messages': [AIMessage(content='첫 질문은 \"대한민국 대통령은 누구야?\"였습니다.', additional_kwargs={'refusal': None}, response_metadata={'token_usage': {'completion_tokens': 15, 'prompt_tokens': 734, 'total_tokens': 749, 'completion_tokens_details': {'accepted_prediction_tokens': 0, 'audio_tokens': 0, 'reasoning_tokens': 0, 'rejected_prediction_tokens': 0}, 'prompt_tokens_details': {'audio_tokens': 0, 'cached_tokens': 0}}, 'model_name': 'gpt-4o-mini-2024-07-18', 'system_fingerprint': 'fp_06737a9306', 'finish_reason': 'stop', 'logprobs': None}, id='run-ea864c5c-1627-463b-a563-94f751f003f6-0', usage_metadata={'input_tokens': 734, 'output_tokens': 15, 'total_tokens': 749, 'input_token_details': {'audio': 0, 'cache_read': 0}, 'output_token_details': {'audio': 0, 'reasoning': 0}})]}}, 'thread_id': '1', 'step': 6, 'parents': {}}, created_at='2025-03-09T10:32:51.582361+00:00', parent_config={'configurable': {'thread_id': '1', 'checkpoint_ns': '', 'checkpoint_id': '1effcd1d-9c91-67c6-8005-badcd81f66ba'}}, tasks=())"
      ]
     },
     "execution_count": 5,
     "metadata": {},
     "output_type": "execute_result"
    }
   ],
   "execution_count": 5
  },
  {
   "metadata": {
    "ExecuteTime": {
     "end_time": "2025-03-09T11:07:54.651466Z",
     "start_time": "2025-03-09T11:07:52.674863Z"
    }
   },
   "cell_type": "code",
   "source": [
    "config2 = {\"configurable\": {\"thread_id\": \"2\"}}\n",
    "graph.invoke({\"messages\": [{\"role\": \"user\", \"content\": \"내가 한 첫 질문이 뭐였어?\"}]},\n",
    "             config2)"
   ],
   "id": "3e5b3f016a816e95",
   "outputs": [
    {
     "data": {
      "text/plain": [
       "{'messages': [HumanMessage(content='내가 한 첫 질문이 뭐였어?', additional_kwargs={}, response_metadata={}, id='29f2ee14-d86d-4f3c-b011-f24f80dc4ece'),\n",
       "  AIMessage(content='죄송하지만, 이전 대화 내용을 확인할 수 없기 때문에 당신이 한 첫 질문을 알 수 없습니다. 질문 내용을 다시 말씀해 주시면 도움이 될 수 있습니다.', additional_kwargs={'refusal': None}, response_metadata={'token_usage': {'completion_tokens': 38, 'prompt_tokens': 89, 'total_tokens': 127, 'completion_tokens_details': {'accepted_prediction_tokens': 0, 'audio_tokens': 0, 'reasoning_tokens': 0, 'rejected_prediction_tokens': 0}, 'prompt_tokens_details': {'audio_tokens': 0, 'cached_tokens': 0}}, 'model_name': 'gpt-4o-mini-2024-07-18', 'system_fingerprint': 'fp_06737a9306', 'finish_reason': 'stop', 'logprobs': None}, id='run-d22baad7-8be3-41f8-a3c6-c2237282e125-0', usage_metadata={'input_tokens': 89, 'output_tokens': 38, 'total_tokens': 127, 'input_token_details': {'audio': 0, 'cache_read': 0}, 'output_token_details': {'audio': 0, 'reasoning': 0}})]}"
      ]
     },
     "execution_count": 6,
     "metadata": {},
     "output_type": "execute_result"
    }
   ],
   "execution_count": 6
  },
  {
   "metadata": {
    "ExecuteTime": {
     "end_time": "2025-03-09T11:08:58.767751Z",
     "start_time": "2025-03-09T11:08:58.757696Z"
    }
   },
   "cell_type": "code",
   "source": [
    "# 기억할 메세지 개수 제한하기\n",
    "\n",
    "# 가장 마지막 함수 2개만 기억\n",
    "def filter_messages(messages: list):\n",
    "    # This is very simple helper function which only ever uses the last message\n",
    "    return messages[-2:]\n",
    "\n",
    "def chatbot(state: State):\n",
    "    messages = filter_messages(state[\"messages\"])\n",
    "    result = llm_with_tools.invoke(messages)\n",
    "    return {\"messages\": [result]}\n",
    "\n",
    "graph_builder = StateGraph(State)\n",
    "\n",
    "graph_builder.add_node(\"chatbot\", chatbot)\n",
    "graph_builder.add_node(\"tools\", tool_node)\n",
    "\n",
    "graph_builder.add_edge(\"tools\", \"chatbot\")\n",
    "graph_builder.add_conditional_edges(\"chatbot\", tools_condition)\n",
    "\n",
    "graph_builder.set_entry_point(\"chatbot\")\n",
    "graph = graph_builder.compile(checkpointer=memory)"
   ],
   "id": "efb2b6098a387df",
   "outputs": [],
   "execution_count": 7
  },
  {
   "metadata": {
    "ExecuteTime": {
     "end_time": "2025-03-09T11:09:19.011793Z",
     "start_time": "2025-03-09T11:09:13.264408Z"
    }
   },
   "cell_type": "code",
   "source": [
    "from langchain_core.messages import HumanMessage\n",
    "\n",
    "config = {\"configurable\": {\"thread_id\": \"20\"}}\n",
    "input_message = HumanMessage(content=\"hi! I'm bob and I like soccer\")\n",
    "for event in graph.stream({\"messages\": [input_message]}, config, stream_mode=\"values\"):\n",
    "    event[\"messages\"][-1].pretty_print()\n",
    "\n",
    "# This will now not remember the previous messages\n",
    "# (because we set `messages[-1:]` in the filter messages argument)\n",
    "input_message = HumanMessage(content=\"what's my name?\")\n",
    "for event in graph.stream({\"messages\": [input_message]}, config, stream_mode=\"values\"):\n",
    "    event[\"messages\"][-1].pretty_print()\n",
    "\n",
    "input_message = HumanMessage(content=\"what's my name?\")\n",
    "for event in graph.stream({\"messages\": [input_message]}, config, stream_mode=\"values\"):\n",
    "    event[\"messages\"][-1].pretty_print()\n",
    "\n",
    "input_message = HumanMessage(content=\"what's my favorite?\")\n",
    "for event in graph.stream({\"messages\": [input_message]}, config, stream_mode=\"values\"):\n",
    "    event[\"messages\"][-1].pretty_print()"
   ],
   "id": "da147dae1686fb6e",
   "outputs": [
    {
     "name": "stdout",
     "output_type": "stream",
     "text": [
      "================================\u001B[1m Human Message \u001B[0m=================================\n",
      "\n",
      "hi! I'm bob and I like soccer\n",
      "==================================\u001B[1m Ai Message \u001B[0m==================================\n",
      "\n",
      "Hi Bob! That's great to hear! Soccer is a fantastic sport with a lot of excitement. Do you have a favorite team or player?\n",
      "================================\u001B[1m Human Message \u001B[0m=================================\n",
      "\n",
      "what's my name?\n",
      "==================================\u001B[1m Ai Message \u001B[0m==================================\n",
      "\n",
      "Your name is Bob. How can I assist you today?\n",
      "================================\u001B[1m Human Message \u001B[0m=================================\n",
      "\n",
      "what's my name?\n",
      "==================================\u001B[1m Ai Message \u001B[0m==================================\n",
      "\n",
      "Your name is Bob. How can I assist you today?\n",
      "================================\u001B[1m Human Message \u001B[0m=================================\n",
      "\n",
      "what's my favorite?\n",
      "==================================\u001B[1m Ai Message \u001B[0m==================================\n",
      "\n",
      "I don't have any information on your personal preferences, including your favorites. Could you tell me what you're referring to, such as your favorite food, color, movie, or something else?\n"
     ]
    }
   ],
   "execution_count": 8
  }
 ],
 "metadata": {
  "kernelspec": {
   "display_name": "Python 3",
   "language": "python",
   "name": "python3"
  },
  "language_info": {
   "codemirror_mode": {
    "name": "ipython",
    "version": 2
   },
   "file_extension": ".py",
   "mimetype": "text/x-python",
   "name": "python",
   "nbconvert_exporter": "python",
   "pygments_lexer": "ipython2",
   "version": "2.7.6"
  }
 },
 "nbformat": 4,
 "nbformat_minor": 5
}
