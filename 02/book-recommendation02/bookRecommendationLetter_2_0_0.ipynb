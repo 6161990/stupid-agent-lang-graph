{
 "cells": [
  {
   "metadata": {},
   "cell_type": "markdown",
   "source": [
    "### 북 리커맨드 레터 만들기\n",
    "\n"
   ],
   "id": "2550aede4e13d849"
  },
  {
   "metadata": {
    "ExecuteTime": {
     "end_time": "2025-04-16T10:59:16.307696Z",
     "start_time": "2025-04-16T10:59:16.295444Z"
    }
   },
   "cell_type": "code",
   "source": [
    "# API KEY를 환경변수로 관리하기 위한 설정 파일\n",
    "from dotenv import load_dotenv\n",
    "\n",
    "# API KEY 정보로드\n",
    "load_dotenv()"
   ],
   "id": "93b8215cad80eb4d",
   "outputs": [
    {
     "data": {
      "text/plain": [
       "True"
      ]
     },
     "execution_count": 1,
     "metadata": {},
     "output_type": "execute_result"
    }
   ],
   "execution_count": 1
  },
  {
   "metadata": {
    "ExecuteTime": {
     "end_time": "2025-04-16T11:06:20.876069Z",
     "start_time": "2025-04-16T11:06:20.868852Z"
    }
   },
   "cell_type": "code",
   "source": [
    "import os\n",
    "\n",
    "NAVER_CLIENT_ID = os.getenv(\"NAVER_CLIENT_ID\")\n",
    "NAVER_CLIENT_SECRET = os.getenv(\"NAVER_CLIENT_SECRET\")\n",
    "\n",
    "def search_for_book_titles_naver(keyword):\n",
    "    \"\"\"\n",
    "    This tool interacts with the Naver Book Search API to search for recent book titles related to a given keyword.\n",
    "\n",
    "    Args:\n",
    "        keyword (str): The keyword or phrase to search for in the books.\n",
    "\n",
    "    Returns:\n",
    "        list of str: A list of up to 5 book titles related to the keyword.\n",
    "    \"\"\"\n",
    "    url = \"https://openapi.naver.com/v1/search/book.json\"\n",
    "    headers = {\n",
    "        \"X-Naver-Client-Id\": NAVER_CLIENT_ID,\n",
    "        \"X-Naver-Client-Secret\": NAVER_CLIENT_SECRET,\n",
    "    }\n",
    "    params = {\n",
    "        \"query\": keyword,\n",
    "        \"display\": 5,     # 최대 5개 결과\n",
    "        \"sort\": \"sim\"    # 최신순 정렬\n",
    "    }\n",
    "\n",
    "    response = requests.get(url, headers=headers, params=params)\n",
    "    response.raise_for_status()  # 오류 발생 시 예외\n",
    "\n",
    "    items = response.json().get(\"items\", [])\n",
    "    title_list = [item[\"title\"].replace(\"<b>\", \"\").replace(\"</b>\", \"\") for item in items]\n",
    "\n",
    "    return title_list\n"
   ],
   "id": "5aba6616b92c8003",
   "outputs": [],
   "execution_count": 5
  },
  {
   "metadata": {
    "ExecuteTime": {
     "end_time": "2025-04-16T11:16:15.409592Z",
     "start_time": "2025-04-16T11:16:15.403057Z"
    }
   },
   "cell_type": "code",
   "source": [
    "import requests\n",
    "\n",
    "def search_for_book_titles_google(keyword: str, max_results: int = 5) -> list[str]:\n",
    "    \"\"\"\n",
    "    Uses Google Books API to search for book titles related to a given keyword.\n",
    "\n",
    "    Args:\n",
    "        keyword (str): The keyword to search for.\n",
    "        max_results (int): The number of results to return (default 5).\n",
    "\n",
    "    Returns:\n",
    "        list of str: A list of book titles related to the keyword.\n",
    "    \"\"\"\n",
    "    url = \"https://www.googleapis.com/books/v1/volumes\"\n",
    "    params = {\n",
    "        \"q\": keyword,\n",
    "        \"maxResults\": max_results,\n",
    "        \"printType\": \"books\",\n",
    "        \"langRestrict\": \"ko\",  # 한글 도서 우선\n",
    "    }\n",
    "\n",
    "    response = requests.get(url, params=params)\n",
    "    response.raise_for_status()\n",
    "\n",
    "    items = response.json().get(\"items\", [])\n",
    "    titles = [item[\"volumeInfo\"].get(\"title\", \"제목 없음\") for item in items]\n",
    "\n",
    "    return titles\n"
   ],
   "id": "bf3b9756559b2c6",
   "outputs": [],
   "execution_count": 20
  },
  {
   "metadata": {
    "ExecuteTime": {
     "end_time": "2025-04-16T11:57:17.920301Z",
     "start_time": "2025-04-16T11:57:17.917725Z"
    }
   },
   "cell_type": "code",
   "source": [
    "def search_for_book_titles(keyword):\n",
    "    # 1순위: Google Books\n",
    "    titles = search_for_book_titles_google(keyword)\n",
    "\n",
    "    # 만약 결과가 없다면 fallback Naver API로 검색\n",
    "    if not titles:\n",
    "        titles = search_for_book_titles_naver(keyword)\n",
    "\n",
    "    return titles"
   ],
   "id": "d2b3749e794e81dd",
   "outputs": [],
   "execution_count": 48
  },
  {
   "metadata": {
    "ExecuteTime": {
     "end_time": "2025-04-16T11:57:07.631096Z",
     "start_time": "2025-04-16T11:57:07.544406Z"
    }
   },
   "cell_type": "code",
   "source": [
    "keyword = \"김금희\"\n",
    "result = search_for_book_titles(keyword)\n",
    "print(result)"
   ],
   "id": "488b88bd6c206067",
   "outputs": [
    {
     "name": "stdout",
     "output_type": "stream",
     "text": [
      "['대온실 수리 보고서 (김금희 장편소설)', '나의 폴라 일지(큰글자도서)', '대온실 수리 보고서 (큰글자도서) (김금희 장편소설)', '나의 폴라 일지', '敬愛の心']\n"
     ]
    }
   ],
   "execution_count": 47
  },
  {
   "metadata": {
    "ExecuteTime": {
     "end_time": "2025-04-16T11:23:00.809857Z",
     "start_time": "2025-04-16T11:23:00.773718Z"
    }
   },
   "cell_type": "code",
   "source": [
    "from pydantic import BaseModel, Field\n",
    "from langchain_openai import ChatOpenAI\n",
    "from langchain_core.output_parsers import StrOutputParser\n",
    "from langchain_core.prompts import ChatPromptTemplate\n",
    "\n",
    "llm = ChatOpenAI(model=\"gpt-4o-mini\", temperature=1)\n",
    "\n",
    "# Data model\n",
    "class BookLetterThemeOutput(BaseModel):\n",
    "    \"\"\"Output model for structured theme and sub-theme generation.\"\"\"\n",
    "\n",
    "    theme: str = Field(\n",
    "        description=\"The main book letter theme based on the provided books titles.\"\n",
    "    )\n",
    "    sub_themes: list[str] = Field(\n",
    "        description=\"List of sub-themes or key books items to investigate under the main theme, ensuring they are specific and researchable.\"\n",
    "    )\n",
    "\n",
    "\n",
    "# LLM with function call\n",
    "structured_llm_book_letter = llm.with_structured_output(BookLetterThemeOutput)\n",
    "\n",
    "# Prompt\n",
    "system = \"\"\"\n",
    "You are an expert editorial assistant for a themed book letter. Your task is to create a consistent and compelling topic structure based on a given list of book titles.\n",
    "\n",
    "Instructions:\n",
    "- Carefully examine the book titles and infer the common thread or theme that connects them.\n",
    "- Choose **one main theme** that reflects this connection. The theme should be written in the form of a specific, thought-provoking question in Korean.\n",
    "- Then, write **five sub-themes**, each clearly and meaningfully derived from the main theme and the titles. These should be deeply tied to the books, not general topics.\n",
    "- Your goal is to help the editor write a book letter that feels unified, insightful, and true to the books mentioned.\n",
    "\n",
    "Do not invent unrelated or generic ideas.\n",
    "Think like a book editor planning a well-curated issue around real books.\n",
    "\n",
    "All output must be written in Korean.\n",
    "\"\"\"\n",
    "\n",
    "# This is the template that will feed into the structured LLM\n",
    "theme_prompt = ChatPromptTemplate.from_messages(\n",
    "    [\n",
    "        (\"system\", system),\n",
    "        (\"human\", \"Book titles: \\n\\n {book_titles}\"),\n",
    "    ]\n",
    ")\n",
    "\n",
    "# Chain together the system prompt and the structured output model\n",
    "book_letter_generator = theme_prompt | structured_llm_book_letter"
   ],
   "id": "156463a83401e231",
   "outputs": [],
   "execution_count": 30
  },
  {
   "metadata": {
    "ExecuteTime": {
     "end_time": "2025-04-16T11:23:06.962222Z",
     "start_time": "2025-04-16T11:23:03.832696Z"
    }
   },
   "cell_type": "code",
   "source": [
    "# test\n",
    "output = book_letter_generator.invoke({\"book_titles\": result})\n",
    "sub_themes = output.sub_themes\n",
    "output"
   ],
   "id": "916031b94a7df28d",
   "outputs": [
    {
     "data": {
      "text/plain": [
       "BookLetterThemeOutput(theme='온실의 보살핌과 마음의 기록이란 무엇인가?', sub_themes=['대온실에서의 인간관계와 감정의 교류가 만드는 이야기의 힘은?', '자연과의 교감을 통해 발견하는 자기 자신은 어떻게 드러나는가?', '일기라는 형식을 통해 우리는 어떻게 우리의 내면을 성찰할 수 있는가?', '대온실이라는 상징이 현대 사회에 던지는 질문은 무엇인가?', '사랑과 존경이 나와 타인을 연결하는 통로로서의 역할은 어떻게 표현되는가?'])"
      ]
     },
     "execution_count": 31,
     "metadata": {},
     "output_type": "execute_result"
    }
   ],
   "execution_count": 31
  },
  {
   "metadata": {
    "ExecuteTime": {
     "end_time": "2025-04-16T11:55:10.717723Z",
     "start_time": "2025-04-16T11:55:10.714029Z"
    }
   },
   "cell_type": "code",
   "source": [
    "from typing import Dict, List, TypedDict, Annotated\n",
    "# 딕셔너리 형태의 값들을 계속해서 누적해 나가기 위한 함수\n",
    "# 왼, 오른 모두 Dict 인 경우, 이 둘을 함쳐서 하나의 Dict 으로 정의\n",
    "def merge_dicts(left: Dict, right: Dict) -> Dict:\n",
    "    return {**left, **right}\n",
    "\n",
    "\n",
    "class State(TypedDict):\n",
    "    keyword: str\n",
    "    book_titles: List[str]\n",
    "    book_letter_theme: BookLetterThemeOutput\n",
    "    sub_theme_books: Dict[str, List[Dict]]\n",
    "    results: Annotated[Dict[str, str], merge_dicts]\n",
    "    messages: Annotated[List, add_messages]\n"
   ],
   "id": "ae9aaac26a254f83",
   "outputs": [],
   "execution_count": 41
  },
  {
   "metadata": {
    "ExecuteTime": {
     "end_time": "2025-04-16T12:22:11.934774Z",
     "start_time": "2025-04-16T12:22:11.930886Z"
    }
   },
   "cell_type": "code",
   "source": [
    "def edit_book_letter(state: State) -> State:\n",
    "    theme = state['book_letter_theme'].theme\n",
    "    combined_book_letter = state['messages'][-1].content\n",
    "\n",
    "    prompt = f\"\"\"\n",
    "You are writing a book letter that should feel like a heartfelt personal message from someone close — such as a friend, sibling, or loved one.\n",
    "\n",
    "Please rewrite the following book letter written on the theme: \"{theme}\"\n",
    "\n",
    "{combined_book_letter}\n",
    "\n",
    "Your revised version should:\n",
    "- Feel like a handwritten note, not an editorial review.\n",
    "- Be warm, reflective, and emotionally resonant.\n",
    "- Sound as if you're genuinely recommending these books to someone you care about, not to the general public.\n",
    "- Include a title that is written as a soft question, not a bold headline.\n",
    "- If suggesting other books, limit them to literature, humanities, society, essay, economics, or science.\n",
    "\n",
    "Use natural Korean language that feels familiar and comforting, like a message you'd send to someone you miss.\n",
    "\n",
    "Avoid any formal, rigid, or mechanical language.\n",
    "\n",
    "Output only the revised letter in Korean.\n",
    "    \"\"\"\n",
    "\n",
    "    messages = [HumanMessage(content=prompt)]\n",
    "    writer_llm = ChatOpenAI(model=\"gpt-4o-mini\", temperature=1, max_tokens=8192)\n",
    "    response = writer_llm.invoke(input=messages)\n",
    "\n",
    "    return {\"messages\": [HumanMessage(content=f\"Edited Book Letter:\\n\\n{response.content}\")]}\n"
   ],
   "id": "b423bce419aae144",
   "outputs": [],
   "execution_count": 54
  },
  {
   "metadata": {
    "ExecuteTime": {
     "end_time": "2025-04-16T12:22:13.043924Z",
     "start_time": "2025-04-16T12:22:13.026031Z"
    }
   },
   "cell_type": "code",
   "source": [
    "import asyncio\n",
    "from typing import Dict, List, TypedDict, Annotated\n",
    "from langchain_anthropic import ChatAnthropic\n",
    "from langgraph.graph import StateGraph, END, START\n",
    "from langchain_core.messages import HumanMessage, AIMessage\n",
    "from langgraph.graph.message import add_messages\n",
    "import operator\n",
    "from tavily import TavilyClient, AsyncTavilyClient\n",
    "import os\n",
    "\n",
    "\n",
    "# 동기 함수들\n",
    "# 주어진 키워드를 기반으로 관련된 책 제목을 뽑아주는 함수\n",
    "def search_keyword(state: State) -> State:\n",
    "    keyword = state['keyword']\n",
    "    book_titles = search_for_book_titles(keyword)\n",
    "    return {\"book_titles\": book_titles}\n",
    "\n",
    "\n",
    "# book_titles 기반으로 북 레터의 대, 소주제를 정의\n",
    "def generated_book_letter_theme(state: State) -> State:\n",
    "    book_titles = state['book_titles']\n",
    "    book_letter_theme = book_letter_generator.invoke({\"book_titles\": \"\\n\".join(book_titles)})\n",
    "    book_letter_theme.sub_themes = book_letter_theme.sub_themes[:5]\n",
    "    return {\"book_letter_theme\": book_letter_theme}\n",
    "\n",
    "\n",
    "# 각각의 세부 주제들에 대해서 비동기로 검색을 실행\n",
    "# asyncio.gather 비동기로 한꺼번에 모아 실행\n",
    "async def search_sub_themes(state: State) -> State:\n",
    "    sub_themes = state['book_letter_theme'].sub_themes\n",
    "    results = await asyncio.gather(*[search_sub_theme(sub_theme) for sub_theme in sub_themes])\n",
    "\n",
    "    sub_theme_books = {}\n",
    "    for result in results:\n",
    "        sub_theme_books.update(result)\n",
    "\n",
    "    return {\"sub_theme_books\": sub_theme_books}\n",
    "\n",
    "\n",
    "# 비동기로 실행하는 Tavily 검색\n",
    "# 세부 주제에 대해서 비동기로 북 검색\n",
    "# sub_theme 에 대한 book letter info 저장함\n",
    "async def search_sub_theme(sub_theme):\n",
    "    async_tavily_client = AsyncTavilyClient()\n",
    "    response = await async_tavily_client.search(\n",
    "        query=sub_theme,\n",
    "        max_results=3,\n",
    "        topic=\"general\",\n",
    "        days=100,\n",
    "        include_images=True,\n",
    "        include_raw_content=True)\n",
    "    images = response['images']\n",
    "    results = response['results']\n",
    "\n",
    "    book_letter_info = []\n",
    "    for i, result in enumerate(results):\n",
    "        book_letter_info.append({\n",
    "            'title': result['title'],\n",
    "            'image_url': images[i],\n",
    "            'raw_content': result['raw_content'],\n",
    "        })\n",
    "    return {sub_theme: book_letter_info}\n",
    "\n",
    "import aiohttp\n",
    "\n",
    "async def search_sub_theme_google(sub_theme):\n",
    "    url = \"https://www.googleapis.com/books/v1/volumes\"\n",
    "    params = {\n",
    "        \"q\": sub_theme,\n",
    "        \"maxResults\": 3,\n",
    "        \"langRestrict\": \"ko\",  # 한국어 도서 위주\n",
    "        \"printType\": \"books\",\n",
    "    }\n",
    "\n",
    "    async with aiohttp.ClientSession() as session:\n",
    "        async with session.get(url, params=params) as resp:\n",
    "            data = await resp.json()\n",
    "\n",
    "    items = data.get(\"items\", [])\n",
    "    book_letter_info = []\n",
    "    for item in items:\n",
    "        info = item.get(\"volumeInfo\", {})\n",
    "        book_letter_info.append({\n",
    "            \"title\": info.get(\"title\", \"\"),\n",
    "            \"image_url\": info.get(\"imageLinks\", {}).get(\"thumbnail\", \"\"),\n",
    "            \"raw_content\": info.get(\"description\", \"\"),\n",
    "        })\n",
    "\n",
    "    return {sub_theme: book_letter_info}\n",
    "\n",
    "\n",
    "# 검색 후 세부 주제 본문 작성\n",
    "def write_book_letter_section(state: State, sub_theme: str) -> Dict:\n",
    "    return asyncio.run(write_book_letter_section_async(state, sub_theme))\n",
    "\n",
    "\n",
    "async def write_book_letter_section_async(state: State, sub_theme: str) -> Dict:\n",
    "    books = state['sub_theme_books'][sub_theme]\n",
    "\n",
    "    #Prepare a list of formatted book references including title, image, and a snippet of raw content\n",
    "    books_references = \"\\n\".join(\n",
    "        [f\"Title: {book['title']}\\nContent: {book['raw_content']}...\" for book in books]\n",
    "    )\n",
    "\n",
    "    prompt = f\"\"\"\n",
    "    Write a book letter section for the sub-theme: \"{sub_theme}\".\n",
    "\n",
    "    Use the following books as reference and include relevant points from both their titles, images, and content:\n",
    "    <book>\n",
    "    {books_references}\n",
    "    </book>\n",
    "    Summarize the key points and trends related to this sub-theme, and ensure you reference the images where they add value to the discussion.\n",
    "    Keep the tone engaging and informative for book letter readers. You should write in Korean\n",
    "    \"\"\"\n",
    "\n",
    "    messages = [HumanMessage(content=prompt)]\n",
    "    response = await llm.ainvoke(messages)\n",
    "    return {\"results\": {sub_theme: response.content}}\n",
    "\n",
    "\n",
    "# 세부 주제들에 대해서 결합\n",
    "def aggregate_results(state: State) -> State:\n",
    "    theme = state['book_letter_theme'].theme\n",
    "    combined_book_letter = f\"# {theme}\\n\\n\"\n",
    "    for sub_theme, content in state['results'].items():\n",
    "        combined_book_letter += f\"# {sub_theme}\\n{content}\\n\"\n",
    "    return {\"messages\": [HumanMessage(content=f\"Generated Book Letter:\\n\\n{combined_book_letter}\")]}\n",
    "\n",
    "\n",
    "# LangGraph 구성\n",
    "workflow = StateGraph(State)\n",
    "workflow.add_node(\"editor\", edit_book_letter)\n",
    "workflow.add_node(\"search_keyword\", search_keyword)\n",
    "workflow.add_node(\"generated_theme\", generated_book_letter_theme)\n",
    "workflow.add_node(\"search_sub_themes\", search_sub_themes)\n",
    "workflow.add_node(\"aggregate\", aggregate_results)\n",
    "\n",
    "for i in range(5):\n",
    "    node_name = f\"write_section_{i}\"\n",
    "    workflow.add_node(node_name, lambda s, i=i: write_book_letter_section(s, s['book_letter_theme'].sub_themes[i]))\n",
    "\n",
    "# 엣지 연결\n",
    "workflow.add_edge(START, \"search_keyword\")\n",
    "workflow.add_edge(\"search_keyword\", \"generated_theme\")\n",
    "workflow.add_edge(\"generated_theme\", \"search_sub_themes\")\n",
    "for i in range(5):\n",
    "    workflow.add_edge(\"search_sub_themes\", f\"write_section_{i}\")\n",
    "    workflow.add_edge(f\"write_section_{i}\", \"aggregate\")\n",
    "workflow.add_edge(\"aggregate\", \"editor\")\n",
    "workflow.add_edge(\"editor\", END)\n",
    "\n",
    "graph = workflow.compile()\n"
   ],
   "id": "9737ba2a27e73141",
   "outputs": [],
   "execution_count": 55
  },
  {
   "metadata": {
    "ExecuteTime": {
     "end_time": "2025-04-16T12:24:13.331182Z",
     "start_time": "2025-04-16T12:22:44.059916Z"
    }
   },
   "cell_type": "code",
   "source": [
    "keyword = input(\"Enter a keyword for the book letter\")\n",
    "\n",
    "inputs = {\"keyword\": keyword}\n",
    "async for output in graph.astream(inputs, stream_mode=\"updates\"):\n",
    "    # stream_mode=\"updates\" yields dictionaries with output keyed by node name\n",
    "    for key, value in output.items():\n",
    "        print(f\"Output from node '{key}':\")\n",
    "        print(\"---\")\n",
    "        print(print(value))\n",
    "    print(\"\\n---\\n\")"
   ],
   "id": "32317aa913b66c2c",
   "outputs": [
    {
     "name": "stdout",
     "output_type": "stream",
     "text": [
      "Output from node 'search_keyword':\n",
      "---\n",
      "{'book_titles': ['나는 그것에 대해 아주 오랫동안 생각해', '너무 한낮의 연애', '복자에게', '오직 한 사람의 차지', '기획회의 536호']}\n",
      "None\n",
      "\n",
      "---\n",
      "\n",
      "Output from node 'generated_theme':\n",
      "---\n",
      "{'book_letter_theme': BookLetterThemeOutput(theme='사랑이란 무엇인가?', sub_themes=[\"사랑의 고민과 갈등: '나는 그것에 대해 아주 오랫동안 생각해'에서의 내면적 탐구\", \"낮은 조명의 연애: '너무 한낮의 연애'가 보여주는 사랑의 현실\", \"복잡한 관계의 재정의: '복자에게'를 통해 본 인연의 의미\", \"독점의 사랑: '오직 한 사람의 차지'에서의 소유와 헌신의 갈림길\", \"창작과 현실의 경계: '기획회의 536호'가 제시하는 사랑의 진정한 모습\"])}\n",
      "None\n",
      "\n",
      "---\n",
      "\n",
      "Output from node 'search_sub_themes':\n",
      "---\n",
      "{'sub_theme_books': {\"사랑의 고민과 갈등: '나는 그것에 대해 아주 오랫동안 생각해'에서의 내면적 탐구\": [{'title': '외딴방 (한국문학전집 009)', 'image_url': 'http://books.google.com/books/content?id=gq5HBQAAQBAJ&printsec=frontcover&img=1&zoom=1&edge=curl&source=gbs_api', 'raw_content': '문학동네 한국문학전집 제9권 신경숙 장편소설 『외딴방』(1995)은 80년대의 암흑기 속에서 문학에의 꿈을 키워나가던 신경숙의 시원(始原)을 만날 수 있는 자전적 성장소설로, 현재진행형의 글쓰기를 통해 오로지 문학만이 보여줄 수 있는 깊이와 아름다움을 표현해내어 독자와 언론의 열렬한 관심은 물론 문단의 다양한 진영에서 일치된 찬사를 이끌어냈다. 내용과 형식 양면에서 새로운 리얼리즘의 가능성을 열어 보인 『외딴방』은 90년대 한국문학이 거둔 최고의 수확일 것이다.'}, {'title': '방법서설:정신지도를 위한 규칙들', 'image_url': 'http://books.google.com/books/content?id=aSSdMQAACAAJ&printsec=frontcover&img=1&zoom=1&source=gbs_api', 'raw_content': ''}, {'title': '쾌락(문지스펙트럼:세계의고전사상 1)', 'image_url': 'http://books.google.com/books/content?id=IjPHMQAACAAJ&printsec=frontcover&img=1&zoom=1&source=gbs_api', 'raw_content': ''}], \"낮은 조명의 연애: '너무 한낮의 연애'가 보여주는 사랑의 현실\": [{'title': '왜냐하면 우리는 우리를 모르고', 'image_url': 'http://books.google.com/books/content?id=gN0tEAAAQBAJ&printsec=frontcover&img=1&zoom=1&edge=curl&source=gbs_api', 'raw_content': \"'문학과지성 시인선' 460권. 의미를 유보하는 과정 자체로 자기 시를 만드는 시인, 이제니의 두번째 시집. 반복을 통해 생생한 리듬감을 획득하여 사물과 의미 사이 공간을 확장하였다는 평을 받은 첫 시집 아마도 아프리카 이후 4년 만이다. 두번째 시집답게, 왜냐하면 우리는 우리를 모르고에 실린 60편의 시에서 이제니 특유의 리듬감은 더욱 조밀해졌다. 그는 사물의 본래 모습을 찾기 위해, 쓰고, 다시 쓰고, 덧붙이고 지우기를 끊임없이 반복하면서, 의미라는 '당연하다고 믿어왔던 그 믿음들 사이의 균열'에 리듬을 흘러넘치게 한다. 지금까지 이제니의 리듬을 수식했던 '발랄'은 이번 시집에서 '의연(毅然)'이라는 좀더 절실한 표현으로 대체될 필요가 있다.\"}, {'title': '더 나쁜 쪽으로', 'image_url': 'http://books.google.com/books/content?id=wsIyDwAAQBAJ&printsec=frontcover&img=1&zoom=1&edge=curl&source=gbs_api', 'raw_content': '관성을 거스르며 실패한 세계를 야유하는 소설가, 김사과 7년 만의 소설집 과감한 형식실험을 통해 사회비판적인 목소리를 강렬하게 표출해온 김사과의 두번째 소설집. 김사과가 그리는 세계는 여전히 암담하지만, 격정적으로 내달리던 김사과의 서술은 이제 그 호흡을 고르고 냉철하게 이 세계를 진단하기 시작했다. \"더 나쁜 쪽으로\"라는 이 소설집의 제목이 말해주듯, 김사과의 전망은 단순한 절망도 희망도 아니다. 사뮈엘 베케트의 「가장 나쁜 쪽으로」를 최상급 대신 비교급 표현으로 바꾼 이 제목은 이 세계가 완전히 끝장난 것이 아니라 더 나빠질 여지를 남겨두고 있다는 사실을 말해주고 있다. 우리는 아직 더 나쁜 쪽을 향해 앞으로 나아갈 수 있다는, 그 비교급의 희망을 김사과가 이야기하기 시작했다는 것은 이번 소설집의 값진 발견이다.'}, {'title': '회색인(최인훈 전집 2)', 'image_url': 'http://books.google.com/books/content?id=9uEVPQAACAAJ&printsec=frontcover&img=1&zoom=1&source=gbs_api', 'raw_content': ''}], \"복잡한 관계의 재정의: '복자에게'를 통해 본 인연의 의미\": [{'title': '지역사회 정신건강서비스 연계 현황과 개선 과제(연구보고서 2017-27)', 'image_url': '', 'raw_content': ''}, {'title': '한국 의 이혼 실태 와 이혼 가족 지원 정책 연구', 'image_url': 'http://books.google.com/books/content?id=xbNxAwAACAAJ&printsec=frontcover&img=1&zoom=1&source=gbs_api', 'raw_content': ''}, {'title': '천금말씨', 'image_url': 'http://books.google.com/books/content?id=pVBxDwAAQBAJ&printsec=frontcover&img=1&zoom=1&edge=curl&source=gbs_api', 'raw_content': '사람은 말을 만들고, 말은 사람을 만든다! 세상에 빈 말은 없다『천금말씨』. 밀리언셀러《무지개원리》의 저자이자 왕성한 강연가와 희망멘토로 대중적인 사랑을 받고 있는 차동엽 신부가 희망을 깨우는 말 사용법을 소개한 책이다. 그간 많은 작품을 통해 감사와 희망을 설파해 온 저자가 이번 작품에서 감사와 희망을 실천할 수 있는 소통의 힘과 가능성에 대해 이야기한다. ‘천금말씨’는 ‘말하는 마음가짐과 태도’라는 사전적 의미와 함께 ‘말이 씨가 된다’는 의미로도 사용된다. 즉, 말이 씨가 되어 힘을 발휘하고, 그 힘이 사람을 움직인다는 것을 뜻한다. 사람은 말을 만들고, 말은 사람을 만드는 순환의 법칙에 대해 설명하고, 힘 있게 말하기와 힘 있는 말 만들기 사이를 따뜻한 감성과 균형 잡힌 시선으로 분석하였다.'}], \"독점의 사랑: '오직 한 사람의 차지'에서의 소유와 헌신의 갈림길\": [{'title': '인간의 살림살이(칼 폴라니 총서 2)', 'image_url': '', 'raw_content': ''}, {'title': '회색 눈사람', 'image_url': '', 'raw_content': ''}, {'title': '성령의 삶 능력의 삶', 'image_url': 'http://books.google.com/books/content?id=mX3FMAAACAAJ&printsec=frontcover&img=1&zoom=1&source=gbs_api', 'raw_content': ''}], \"창작과 현실의 경계: '기획회의 536호'가 제시하는 사랑의 진정한 모습\": [{'title': '2019 한국인의 평화의식(KINU 연구총서 19-22)', 'image_url': '', 'raw_content': ''}, {'title': '자바를 활용한 딥러닝', 'image_url': 'http://books.google.com/books/content?id=6UFvDwAAQBAJ&printsec=frontcover&img=1&zoom=1&edge=curl&source=gbs_api', 'raw_content': '자바 개발자를 위한 효율적인 딥러닝 신경망 구축 가이드 이 책의 전반부에서는 이론을, 후반부에서는 튜닝, 병렬화, 벡터화, 파이프라인 구축 등 딥러닝 실무의 핵심을 설명한다. 특히 DL4J 라이브러리로 스파크 및 하둡에서 심층 신경망 구조를 학습하고 딥러닝 워크플로를 실행하는 실용적인 방법과 전략을 알려준다. 이론과 실습 모두 깊이 있게 다뤄 딥러닝 관련 전문 지식이 없는 입문자도 이 책을 읽고 나면 딥러닝 신경망을 구축할 수 있다.'}, {'title': '전공유아(2006년 교원임용고시 EBS 방송교재)', 'image_url': 'http://books.google.com/books/content?id=7kYuMgAACAAJ&printsec=frontcover&img=1&zoom=1&source=gbs_api', 'raw_content': ''}]}}\n",
      "None\n",
      "\n",
      "---\n",
      "\n",
      "Output from node 'write_section_2':\n",
      "---\n",
      "{'results': {\"복잡한 관계의 재정의: '복자에게'를 통해 본 인연의 의미\": \"## 복잡한 관계의 재정의: '복자에게'를 통해 본 인연의 의미\\n\\n인연은 우리의 삶을 구성하는 복잡한 관계의 조각들로, 종종 그 의미와 본질을 새롭게 재정의할 필요가 있습니다. 이 과정에서 다양한 책의 통찰력을 빌려볼 수 있습니다. 이번 책 레터에서는 '복자에게'라는 주제와 관련한 몇 가지 작품을 통해 인연의 의미를 살펴보겠습니다.\\n\\n첫 번째로 **'지역사회 정신건강서비스 연계 현황과 개선 과제'**(연구보고서 2017-27)에서는 지역사회 내에서의 인연의 중요성을 강조합니다. 이 보고서는 정신건강 서비스의 연계와 개선 과제를 다루면서, 사람과 사람 사이의 유대가 어떻게 환자의 회복에 영향을 미치는지를 설명합니다. 여기서 인연은 단순한 관계를 넘어, 서로의 아픔을 이해하고 함께 극복하려는 노력을 요구하는 복잡한 네트워크로 나타납니다. 정서적으로 연결된 인연의 힘은, 치료 과정에서 서로의 신뢰를 구축하고 회복의 여정을 함께 해나가는 중요한 요소가 됩니다.\\n\\n다음으로, **'한국의 이혼 실태와 이혼 가족 지원 정책 연구'**는 복잡한 가족 관계와 그로 인해 발생하는 여러 가지 사회적 이슈를 다루고 있습니다. 이 책에서는 이혼이라는 극단적인 선택을 했던 개인들이 다시 인연을 맺는 과정에서의 어려움과 지원 정책의 필요성을 조명합니다. 이처럼 이혼 후에도 지속되는 관계—예를 들어 공동 양육이나 경제적 지원—은 불가피하게 새로운 형태의 인연을 만들어 가는 과정을 제시합니다. 이 과정은 각 개인이 경험하는 고통과 성장, 그리고 삶의 재정의를 보여줍니다.\\n\\n마지막으로 차동엽 신부의 **'천금말씨'**는 인연의 본질을 소통이라는 측면에서 풀어냅니다. '사람은 말을 만들고, 말은 사람을 만든다'는 주제 아래, 언어와 인연 사이의 깊은 관계를 탐구합니다. 이 책은 우리가 사용하는 말이 다른 사람들에게 미치는 영향을 돌아보게 하며, 감정과 태도가 어떻게 복잡한 관계의 형성과 유지에 기여하는지를 논의합니다. 이를 통해 인연의 의미는 단순한 물리적 관계를 넘어서, 서로의 마음과 마음을 연결하는 힘으로 작용할 수 있다는 점을 강조합니다.\\n\\n이처럼, '복자에게'라는 주제는 다양한 시각에서 우리의 인연을 재조명하게 합니다. 지역사회 정신건강 서비스의 사례, 이혼 후 새롭게 맺어지는 인연, 그리고 소통의 힘이 어우러져 새로운 관계의 의미를 찾는 여정을 보여줍니다. 사람들과의 복잡한 관계 속에서, 우리가 어떻게 서로를 지탱하며 함께 성장해 나갈 수 있는지의 실마리를 제시하는 이들 작품은 우리의 이해를 더욱 깊게 만들어 줍니다. 인연의 진정한 의미를 찾기 위한 이 여정에 독자 여러분을 초대합니다.\"}}\n",
      "None\n",
      "\n",
      "---\n",
      "\n",
      "Output from node 'write_section_1':\n",
      "---\n",
      "{'results': {\"낮은 조명의 연애: '너무 한낮의 연애'가 보여주는 사랑의 현실\": '### 낮은 조명의 연애: \\'너무 한낮의 연애\\'가 보여주는 사랑의 현실\\n\\n사람들은 종종 사랑의 감정을 맑고 밝은 햇살 아래서 누린다고 생각합니다. 하지만 사랑의 진실은 종종 그와 반대의 연출, 낮은 조명 아래에서 더욱 사실적으로 드러납니다. 이번 책 편지에서는 낮은 조명의 연애를 주제로 하여 사랑의 현실을 탐구하는 세 권의 책을 살펴보겠습니다.\\n\\n첫 번째로 소개할 책은 이제니의 시집 **『왜냐하면 우리는 우리를 모르고』**입니다. 이 책은 사랑에 대한 자각과 고뇌를 시적으로 풀어내고 있습니다. 이제니는 반복을 통한 리듬감으로 의미의 공간을 확장하면서 독자에게 사랑의 심연을 탐구하게 합니다. \"우리는 우리를 모르고\"라는 의문은 사랑의 정체성 상실과 더불어 내면의 갈등을 더욱 부각시킵니다. 이렇게 낮은 조명 속에서 우리가 진정으로 사랑에 대해 알고 있는지, 그리고 그 사랑이 과연 진정한 의미를 지니는지 의문을 던지는 것이죠. \\n\\n두 번째로, 김사과의 소설집 **『더 나쁜 쪽으로』**를 살펴볼까요? 이 책은 사랑의 비극적 현실을 반영하며, 삼각관계나 불화 속에서 모순된 인간관계를 그립니다. 김사과는 사랑이 반드시 행복으로 이어지지 않음을 보여주며, 다소 암담한 시선으로 인간의 복잡한 감정을 들여다보게 만듭니다. \"더 나빠질 여지\"가 있다는 인식은 사랑도 마찬가지로 위태롭고 불확실한 요소가 가득하다는 사실을 상기시킵니다. 이처럼 낮은 조명 속에서 더욱 뚜렷해지는 사랑의 불완전함과 어두운 면모는 독자들에게 깊은 여운을 남깁니다.\\n\\n마지막으로 다룰 책은 최인훈의 **『회색인』**입니다. 이 작품은 사랑이 현실을 배경으로 얼마나 다양한 색조를 띤 채로 펼쳐질 수 있는지를 보여줍니다. 특히, 인물 간의 갈등과 심리적 속박은 사랑이라는 감정이 단순한 낭만 이상임을 증명합니다. 각 장면이 어두운 저녁빛 속에서 펼쳐지는 듯한 회색조의 이미지들은 독자들로 하여금 사랑의 복잡성과 그 그늘을 깊이 이해하게 합니다.\\n\\n이 세 권의 책은 각기 다른 방식으로 사랑의 현실을 이야기하며, 낮은 조명이 비추는 사랑의 복잡성을 더욱 선명하게 드러냅니다. 우리가 알고 있는 사랑이 반드시 행복한 결말로 이어진다는 보장은 없지만, 그 안에서 진정한 의미를 찾으려는 노력은 우리 모두의 몫임을 시사합니다. 이처럼 깊은 통찰을 제공하는 작품들을 통해 독자들은 사랑의 다양한 면모를 탐구하며 풍요로운 감정의 여정을 경험할 수 있을 것입니다.'}}\n",
      "None\n",
      "\n",
      "---\n",
      "\n",
      "Output from node 'write_section_4':\n",
      "---\n",
      "{'results': {\"창작과 현실의 경계: '기획회의 536호'가 제시하는 사랑의 진정한 모습\": \"**창작과 현실의 경계: '기획회의 536호'가 제시하는 사랑의 진정한 모습**\\n\\n사랑은 창작의 세계와 현실의 경계에서 우리를 끊임없이 사로잡는 주제입니다. '기획회의 536호'는 이러한 사랑의 복잡한 면모를 탐구하며, 그 안에서 인간의 진정한 감정과 현실의 딜레마를 강렬히 조명합니다. 사랑의 본질은 과연 무엇이며, 우리는 이 감정을 어떻게 이해하고 받아들이며, 표현해야 할까요?\\n\\n우선, **2019 한국인의 평화의식(KINU 연구총서 19-22)**의 분석을 통해 우리는 정치와 사회적 변화가 개인의 감정, 사랑을 어떻게 형성하는지를 이해할 수 있습니다. 이 책에서는 한국인의 내면에 자리 잡고 있는 평화에 대한 갈망을 다루며, 이는 사랑의 상징인 배려와 이해를 동시에 의미합니다. 사랑은 단순한 감정이 아니라, 사회적 맥락 속에서 발전하고 변형되는 요소임을 보여줍니다. '기획회의 536호' 역시 이러한 사회적 요소와 개인의 감정을 연결짓는 고찰을 보여주고 있습니다.\\n\\n다음으로 **자바를 활용한 딥러닝**의 내용을 살펴보면, 창작과 현실 사이의 경계를 이해하는데 필요한 기술적 접근을 발견할 수 있습니다. 각종 알고리즘과 데이터 처리 기술이 발전하면서, 인간의 감정과 경험을 데이터로 표현하는 것이 가능해졌습니다. 이 책에서 제시하는 딥러닝의 실용적인 방법들은 사랑에 대한 우리의 접근 방식을 혁신적으로 변화시킬 수 있는 잠재력을 지니고 있습니다. 인공지능이 감정을 분석하고 예측하는 시대에, '기획회의 536호'는 이러한 기술이 사랑을 이해하는 데 어떤 역할을 할 수 있는지, 혹은 그 한계는 무엇인지에 대한 질문을 던집니다.\\n\\n마지막으로, **전공유아(2006년 교원임용고시 EBS 방송교재)**는 사랑의 본질을 이해하는 데 있어 교육의 중요성을 강조합니다. 어린 시절의 경험과 교육은 사랑을 이해하고 실천하는 방식에 큰 영향을 미칩니다. '기획회의 536호'는 이러한 배경을 바탕으로, 사랑의 진정한 모습이 어떻게 형성되는지를 탐구하며, 관계의 본질을 성찰하는 기회를 제공합니다.\\n\\n이처럼 사랑을 주제로 한 '기획회의 536호'의 심층적 탐구는 단순한 감정 그 이상의 의미를 담고 있습니다. 사랑은 창작의 원동력이자, 현실을 바라보는 시각이며, 그 경계에서 우리는 서로를 이해하고 연결되는 법을 배워 나갑니다. 이 책이 여러분의 사랑에 대한 관점을 한층 더 심화시키기를 바랍니다.\"}}\n",
      "None\n",
      "\n",
      "---\n",
      "\n",
      "Output from node 'write_section_3':\n",
      "---\n",
      "{'results': {\"독점의 사랑: '오직 한 사람의 차지'에서의 소유와 헌신의 갈림길\": \"## 독점의 사랑: '오직 한 사람의 차지'에서의 소유와 헌신의 갈림길\\n\\n사랑은 종종 소유와 헌신의 경계선에서 혼란을 겪습니다. '오직 한 사람의 차지'라는 주제는 이러한 복잡성을 잘 보여줍니다. 이 글에서는 칼 폴라니의 『인간의 살림살이』, 독특한 서사를 가진 『회색 눈사람』, 그리고 영성의 깊이를 다룬 『성령의 삶 능력의 삶』을 바탕으로 이 독점의 사랑에 대한 다양한 시각을 탐구해보고자 합니다.\\n\\n첫 번째로, 칼 폴라니의 『인간의 살림살이』는 경제와 사회적 관계의 맥락에서 현대인의 소유 문제를 조명합니다. 폴라니는 소유의 개념이 개인과 공동체의 관계를 어떻게 변화시키는지를 다루며, 물질적 소유가 사랑에 대한 갈망과 격렬하게 연결된다고 주장합니다. 이 책의 이미지들은 사회적 맥락에서 소유가 어떻게 개인의 정체성과 욕망을 형성하는지를 강렬히 보여줍니다. 예를 들어, 경제적 관점에서 소유가 가족, 친구와의 관계에 어떤 영향을 미치는지를 상징적으로 나타내고 있습니다.\\n\\n다음으로,『회색 눈사람』은 사랑이라는 감정의 복잡함을 미스터리와 서스펜스의 틀 안에서 풀어갑니다. 이 작품은 인물 간의 관계에서 독점적인 사랑이 갈등을 어떻게 유발하는지를 중요한 테마로 다룹니다. 그림과 상징물들이 적절하게 활용되어 각 인물의 내면적 갈등과 소유 욕구가 교차하는 맥락을 드러냅니다. 독자가 느끼는 감정의 기복은 사랑이란 무엇이며, 무엇을 포기해야 하는지를 고찰하게 합니다.\\n\\n마지막으로, 『성령의 삶 능력의 삶』은 헌신과 소유의 개념을 신앙적 관점에서 살펴봅니다. 사랑이란 단순히 소유하는 것이 아니라, 다른 이를 위한 헌신이라는 메시지를 담고 있습니다. 이 책의 이미지는 영적인 여정에서 개인이 어떻게 서로 사랑하고 헌신하는지를 잘 나타내며, 진정한 사랑은 소유가 아닌 나누는 것임을 강조합니다. 이는 독점의 사랑이 왜 위험한지를 심층적으로 탐구하게 합니다.\\n\\n결론적으로, '오직 한 사람의 차지'라는 독점의 사랑은 소유와 헌신의 미묘한 균형에서 발생하는 다양한 갈등과 질문을 제공합니다. 세 권의 책에서 나타나는 각기 다른 시각은 독자에게 사랑의 복잡성을 탐구할 기회를 제공하며, 궁극적으로는 진정한 사랑이란 나눔의 행위로 이어질 수 있다는 중요한 메시지를 전해줍니다. 우리의 사랑이 독점이 아닌 헌신의 길로 나아갈 수 있도록 고민하는 것이 중요하다는 사실을 잊지 말아야겠습니다.\"}}\n",
      "None\n",
      "\n",
      "---\n",
      "\n",
      "Output from node 'write_section_0':\n",
      "---\n",
      "{'results': {\"사랑의 고민과 갈등: '나는 그것에 대해 아주 오랫동안 생각해'에서의 내면적 탐구\": \"**사랑의 고민과 갈등: '나는 그것에 대해 아주 오랫동안 생각해'에서의 내면적 탐구**\\n\\n사랑은 인간 존재의 본질과 더불어 삶의 모든 이면을 탐구하게 만드는 주제입니다. 특히 신경숙의 『외딴방』에서는 개인의 내면적 갈등과 사랑의 고민이 밀접하게 얽혀 그로 인해 발생하는 정서적 불안과 카타르시스를 잘 보여줍니다. 이 작품은 1980년대의 암흑기를 배경으로 하는 자전적 성장소설로, 주인공이 문학을 통해 자신의 정체성을 찾아가며 겪는 고민은 사랑에 대한 성찰로도 이어집니다. 작품 속 인물들의 감정은 독자로 하여금 인간 관계의 복잡성과 진정한 사랑의 의미를 다시 한 번 생각하게 만듭니다.\\n\\n『외딴방』의 이미지와 서사에서 우리는 사랑이 개인의 정체성 탐구와 얼마나 깊이 연결되어 있는지를 목격합니다. 사랑이란 종종 두 사람의 관계 속에서 물리적인 거리뿐만 아니라 감정적 거리 또한 발생시킬 수 있으며, 이는 주인공이 여러 차례 겪는 내면적 갈등의 주요 원인이 됩니다. 이러한 갈등은 사랑이 주는 기쁨과 동시에 고통을 내포하고 있음을 이 작품을 통해 실감하게 됩니다.\\n\\n또한, 조지오르기오스의 『방법서설:정신지도를 위한 규칙들』은 그러한 내면적 갈등을 이해하는 데 필요한 도구를 제공합니다. 이 책에서는 정신적 갈등과 고민을 메타비전적으로 분석하는 규칙을 제시함으로써 독자들로 하여금 자신의 감정을 체계적으로 정리하고 이해할 수 있는 기회를 제공합니다. 사랑의 복잡성과 그것이 야기하는 고민을 분석하는 데 있어 이론적으로 큰 도움이 되는 이 책은, 사랑의 문제에 대한보다 깊이 있는 통찰을 제공합니다.\\n\\n그리고 게르하르트의 『쾌락』에서는 사랑이 신체적 쾌락과 정서적 연계성에 대해 탐구합니다. 사랑이라는 감정은 단순한 감정적 끌림을 넘어, 신체적인 쾌락과도 연결되어 있습니다. 이 책은 사랑의 본질이 단순한 감정적 경험에 그치지 않고, 인간의 신체적 경험과 밀접하게 연결되어 있음을 보여줍니다. 이러한 점은 주인공들이 경험하는 사랑의 갈등을 더욱 입체적으로 이해하는 데 기여합니다.\\n\\n이렇듯, 사랑의 고민과 갈등은 단순히 일상적인 이슈를 넘어 인간 본질의 깊은 탐구로 이어집니다. 말하자면, 그것은 스스로를 이해하고, 감정을 깊이 탐닉하며, 나아가 타인과의 관계를 성찰하는 과정을 포함합니다. 신경숙의 『외딴방』은 그러한 여정을 잘 보여주며, 독ix자들로 하여금 사랑이란 무엇인지에 대한 다양한 질문을 던지게 합니다. 각 책의 고유한 시각은 우리에게 사랑에 대한 고민과 내면적 탐구의 풍부한 측면을 소개하고 있지요. 이러한 탐구는 결국 사랑이란 무엇인지, 그 갈등이 왜 발생하는지에 대한 깊은 이해로 이어진다고 할 수 있습니다.\"}}\n",
      "None\n",
      "\n",
      "---\n",
      "\n",
      "Output from node 'aggregate':\n",
      "---\n",
      "{'messages': [HumanMessage(content='Generated Book Letter:\\n\\n# 사랑이란 무엇인가?\\n\\n# 사랑의 고민과 갈등: \\'나는 그것에 대해 아주 오랫동안 생각해\\'에서의 내면적 탐구\\n**사랑의 고민과 갈등: \\'나는 그것에 대해 아주 오랫동안 생각해\\'에서의 내면적 탐구**\\n\\n사랑은 인간 존재의 본질과 더불어 삶의 모든 이면을 탐구하게 만드는 주제입니다. 특히 신경숙의 『외딴방』에서는 개인의 내면적 갈등과 사랑의 고민이 밀접하게 얽혀 그로 인해 발생하는 정서적 불안과 카타르시스를 잘 보여줍니다. 이 작품은 1980년대의 암흑기를 배경으로 하는 자전적 성장소설로, 주인공이 문학을 통해 자신의 정체성을 찾아가며 겪는 고민은 사랑에 대한 성찰로도 이어집니다. 작품 속 인물들의 감정은 독자로 하여금 인간 관계의 복잡성과 진정한 사랑의 의미를 다시 한 번 생각하게 만듭니다.\\n\\n『외딴방』의 이미지와 서사에서 우리는 사랑이 개인의 정체성 탐구와 얼마나 깊이 연결되어 있는지를 목격합니다. 사랑이란 종종 두 사람의 관계 속에서 물리적인 거리뿐만 아니라 감정적 거리 또한 발생시킬 수 있으며, 이는 주인공이 여러 차례 겪는 내면적 갈등의 주요 원인이 됩니다. 이러한 갈등은 사랑이 주는 기쁨과 동시에 고통을 내포하고 있음을 이 작품을 통해 실감하게 됩니다.\\n\\n또한, 조지오르기오스의 『방법서설:정신지도를 위한 규칙들』은 그러한 내면적 갈등을 이해하는 데 필요한 도구를 제공합니다. 이 책에서는 정신적 갈등과 고민을 메타비전적으로 분석하는 규칙을 제시함으로써 독자들로 하여금 자신의 감정을 체계적으로 정리하고 이해할 수 있는 기회를 제공합니다. 사랑의 복잡성과 그것이 야기하는 고민을 분석하는 데 있어 이론적으로 큰 도움이 되는 이 책은, 사랑의 문제에 대한보다 깊이 있는 통찰을 제공합니다.\\n\\n그리고 게르하르트의 『쾌락』에서는 사랑이 신체적 쾌락과 정서적 연계성에 대해 탐구합니다. 사랑이라는 감정은 단순한 감정적 끌림을 넘어, 신체적인 쾌락과도 연결되어 있습니다. 이 책은 사랑의 본질이 단순한 감정적 경험에 그치지 않고, 인간의 신체적 경험과 밀접하게 연결되어 있음을 보여줍니다. 이러한 점은 주인공들이 경험하는 사랑의 갈등을 더욱 입체적으로 이해하는 데 기여합니다.\\n\\n이렇듯, 사랑의 고민과 갈등은 단순히 일상적인 이슈를 넘어 인간 본질의 깊은 탐구로 이어집니다. 말하자면, 그것은 스스로를 이해하고, 감정을 깊이 탐닉하며, 나아가 타인과의 관계를 성찰하는 과정을 포함합니다. 신경숙의 『외딴방』은 그러한 여정을 잘 보여주며, 독ix자들로 하여금 사랑이란 무엇인지에 대한 다양한 질문을 던지게 합니다. 각 책의 고유한 시각은 우리에게 사랑에 대한 고민과 내면적 탐구의 풍부한 측면을 소개하고 있지요. 이러한 탐구는 결국 사랑이란 무엇인지, 그 갈등이 왜 발생하는지에 대한 깊은 이해로 이어진다고 할 수 있습니다.\\n# 낮은 조명의 연애: \\'너무 한낮의 연애\\'가 보여주는 사랑의 현실\\n### 낮은 조명의 연애: \\'너무 한낮의 연애\\'가 보여주는 사랑의 현실\\n\\n사람들은 종종 사랑의 감정을 맑고 밝은 햇살 아래서 누린다고 생각합니다. 하지만 사랑의 진실은 종종 그와 반대의 연출, 낮은 조명 아래에서 더욱 사실적으로 드러납니다. 이번 책 편지에서는 낮은 조명의 연애를 주제로 하여 사랑의 현실을 탐구하는 세 권의 책을 살펴보겠습니다.\\n\\n첫 번째로 소개할 책은 이제니의 시집 **『왜냐하면 우리는 우리를 모르고』**입니다. 이 책은 사랑에 대한 자각과 고뇌를 시적으로 풀어내고 있습니다. 이제니는 반복을 통한 리듬감으로 의미의 공간을 확장하면서 독자에게 사랑의 심연을 탐구하게 합니다. \"우리는 우리를 모르고\"라는 의문은 사랑의 정체성 상실과 더불어 내면의 갈등을 더욱 부각시킵니다. 이렇게 낮은 조명 속에서 우리가 진정으로 사랑에 대해 알고 있는지, 그리고 그 사랑이 과연 진정한 의미를 지니는지 의문을 던지는 것이죠. \\n\\n두 번째로, 김사과의 소설집 **『더 나쁜 쪽으로』**를 살펴볼까요? 이 책은 사랑의 비극적 현실을 반영하며, 삼각관계나 불화 속에서 모순된 인간관계를 그립니다. 김사과는 사랑이 반드시 행복으로 이어지지 않음을 보여주며, 다소 암담한 시선으로 인간의 복잡한 감정을 들여다보게 만듭니다. \"더 나빠질 여지\"가 있다는 인식은 사랑도 마찬가지로 위태롭고 불확실한 요소가 가득하다는 사실을 상기시킵니다. 이처럼 낮은 조명 속에서 더욱 뚜렷해지는 사랑의 불완전함과 어두운 면모는 독자들에게 깊은 여운을 남깁니다.\\n\\n마지막으로 다룰 책은 최인훈의 **『회색인』**입니다. 이 작품은 사랑이 현실을 배경으로 얼마나 다양한 색조를 띤 채로 펼쳐질 수 있는지를 보여줍니다. 특히, 인물 간의 갈등과 심리적 속박은 사랑이라는 감정이 단순한 낭만 이상임을 증명합니다. 각 장면이 어두운 저녁빛 속에서 펼쳐지는 듯한 회색조의 이미지들은 독자들로 하여금 사랑의 복잡성과 그 그늘을 깊이 이해하게 합니다.\\n\\n이 세 권의 책은 각기 다른 방식으로 사랑의 현실을 이야기하며, 낮은 조명이 비추는 사랑의 복잡성을 더욱 선명하게 드러냅니다. 우리가 알고 있는 사랑이 반드시 행복한 결말로 이어진다는 보장은 없지만, 그 안에서 진정한 의미를 찾으려는 노력은 우리 모두의 몫임을 시사합니다. 이처럼 깊은 통찰을 제공하는 작품들을 통해 독자들은 사랑의 다양한 면모를 탐구하며 풍요로운 감정의 여정을 경험할 수 있을 것입니다.\\n# 복잡한 관계의 재정의: \\'복자에게\\'를 통해 본 인연의 의미\\n## 복잡한 관계의 재정의: \\'복자에게\\'를 통해 본 인연의 의미\\n\\n인연은 우리의 삶을 구성하는 복잡한 관계의 조각들로, 종종 그 의미와 본질을 새롭게 재정의할 필요가 있습니다. 이 과정에서 다양한 책의 통찰력을 빌려볼 수 있습니다. 이번 책 레터에서는 \\'복자에게\\'라는 주제와 관련한 몇 가지 작품을 통해 인연의 의미를 살펴보겠습니다.\\n\\n첫 번째로 **\\'지역사회 정신건강서비스 연계 현황과 개선 과제\\'**(연구보고서 2017-27)에서는 지역사회 내에서의 인연의 중요성을 강조합니다. 이 보고서는 정신건강 서비스의 연계와 개선 과제를 다루면서, 사람과 사람 사이의 유대가 어떻게 환자의 회복에 영향을 미치는지를 설명합니다. 여기서 인연은 단순한 관계를 넘어, 서로의 아픔을 이해하고 함께 극복하려는 노력을 요구하는 복잡한 네트워크로 나타납니다. 정서적으로 연결된 인연의 힘은, 치료 과정에서 서로의 신뢰를 구축하고 회복의 여정을 함께 해나가는 중요한 요소가 됩니다.\\n\\n다음으로, **\\'한국의 이혼 실태와 이혼 가족 지원 정책 연구\\'**는 복잡한 가족 관계와 그로 인해 발생하는 여러 가지 사회적 이슈를 다루고 있습니다. 이 책에서는 이혼이라는 극단적인 선택을 했던 개인들이 다시 인연을 맺는 과정에서의 어려움과 지원 정책의 필요성을 조명합니다. 이처럼 이혼 후에도 지속되는 관계—예를 들어 공동 양육이나 경제적 지원—은 불가피하게 새로운 형태의 인연을 만들어 가는 과정을 제시합니다. 이 과정은 각 개인이 경험하는 고통과 성장, 그리고 삶의 재정의를 보여줍니다.\\n\\n마지막으로 차동엽 신부의 **\\'천금말씨\\'**는 인연의 본질을 소통이라는 측면에서 풀어냅니다. \\'사람은 말을 만들고, 말은 사람을 만든다\\'는 주제 아래, 언어와 인연 사이의 깊은 관계를 탐구합니다. 이 책은 우리가 사용하는 말이 다른 사람들에게 미치는 영향을 돌아보게 하며, 감정과 태도가 어떻게 복잡한 관계의 형성과 유지에 기여하는지를 논의합니다. 이를 통해 인연의 의미는 단순한 물리적 관계를 넘어서, 서로의 마음과 마음을 연결하는 힘으로 작용할 수 있다는 점을 강조합니다.\\n\\n이처럼, \\'복자에게\\'라는 주제는 다양한 시각에서 우리의 인연을 재조명하게 합니다. 지역사회 정신건강 서비스의 사례, 이혼 후 새롭게 맺어지는 인연, 그리고 소통의 힘이 어우러져 새로운 관계의 의미를 찾는 여정을 보여줍니다. 사람들과의 복잡한 관계 속에서, 우리가 어떻게 서로를 지탱하며 함께 성장해 나갈 수 있는지의 실마리를 제시하는 이들 작품은 우리의 이해를 더욱 깊게 만들어 줍니다. 인연의 진정한 의미를 찾기 위한 이 여정에 독자 여러분을 초대합니다.\\n# 독점의 사랑: \\'오직 한 사람의 차지\\'에서의 소유와 헌신의 갈림길\\n## 독점의 사랑: \\'오직 한 사람의 차지\\'에서의 소유와 헌신의 갈림길\\n\\n사랑은 종종 소유와 헌신의 경계선에서 혼란을 겪습니다. \\'오직 한 사람의 차지\\'라는 주제는 이러한 복잡성을 잘 보여줍니다. 이 글에서는 칼 폴라니의 『인간의 살림살이』, 독특한 서사를 가진 『회색 눈사람』, 그리고 영성의 깊이를 다룬 『성령의 삶 능력의 삶』을 바탕으로 이 독점의 사랑에 대한 다양한 시각을 탐구해보고자 합니다.\\n\\n첫 번째로, 칼 폴라니의 『인간의 살림살이』는 경제와 사회적 관계의 맥락에서 현대인의 소유 문제를 조명합니다. 폴라니는 소유의 개념이 개인과 공동체의 관계를 어떻게 변화시키는지를 다루며, 물질적 소유가 사랑에 대한 갈망과 격렬하게 연결된다고 주장합니다. 이 책의 이미지들은 사회적 맥락에서 소유가 어떻게 개인의 정체성과 욕망을 형성하는지를 강렬히 보여줍니다. 예를 들어, 경제적 관점에서 소유가 가족, 친구와의 관계에 어떤 영향을 미치는지를 상징적으로 나타내고 있습니다.\\n\\n다음으로,『회색 눈사람』은 사랑이라는 감정의 복잡함을 미스터리와 서스펜스의 틀 안에서 풀어갑니다. 이 작품은 인물 간의 관계에서 독점적인 사랑이 갈등을 어떻게 유발하는지를 중요한 테마로 다룹니다. 그림과 상징물들이 적절하게 활용되어 각 인물의 내면적 갈등과 소유 욕구가 교차하는 맥락을 드러냅니다. 독자가 느끼는 감정의 기복은 사랑이란 무엇이며, 무엇을 포기해야 하는지를 고찰하게 합니다.\\n\\n마지막으로, 『성령의 삶 능력의 삶』은 헌신과 소유의 개념을 신앙적 관점에서 살펴봅니다. 사랑이란 단순히 소유하는 것이 아니라, 다른 이를 위한 헌신이라는 메시지를 담고 있습니다. 이 책의 이미지는 영적인 여정에서 개인이 어떻게 서로 사랑하고 헌신하는지를 잘 나타내며, 진정한 사랑은 소유가 아닌 나누는 것임을 강조합니다. 이는 독점의 사랑이 왜 위험한지를 심층적으로 탐구하게 합니다.\\n\\n결론적으로, \\'오직 한 사람의 차지\\'라는 독점의 사랑은 소유와 헌신의 미묘한 균형에서 발생하는 다양한 갈등과 질문을 제공합니다. 세 권의 책에서 나타나는 각기 다른 시각은 독자에게 사랑의 복잡성을 탐구할 기회를 제공하며, 궁극적으로는 진정한 사랑이란 나눔의 행위로 이어질 수 있다는 중요한 메시지를 전해줍니다. 우리의 사랑이 독점이 아닌 헌신의 길로 나아갈 수 있도록 고민하는 것이 중요하다는 사실을 잊지 말아야겠습니다.\\n# 창작과 현실의 경계: \\'기획회의 536호\\'가 제시하는 사랑의 진정한 모습\\n**창작과 현실의 경계: \\'기획회의 536호\\'가 제시하는 사랑의 진정한 모습**\\n\\n사랑은 창작의 세계와 현실의 경계에서 우리를 끊임없이 사로잡는 주제입니다. \\'기획회의 536호\\'는 이러한 사랑의 복잡한 면모를 탐구하며, 그 안에서 인간의 진정한 감정과 현실의 딜레마를 강렬히 조명합니다. 사랑의 본질은 과연 무엇이며, 우리는 이 감정을 어떻게 이해하고 받아들이며, 표현해야 할까요?\\n\\n우선, **2019 한국인의 평화의식(KINU 연구총서 19-22)**의 분석을 통해 우리는 정치와 사회적 변화가 개인의 감정, 사랑을 어떻게 형성하는지를 이해할 수 있습니다. 이 책에서는 한국인의 내면에 자리 잡고 있는 평화에 대한 갈망을 다루며, 이는 사랑의 상징인 배려와 이해를 동시에 의미합니다. 사랑은 단순한 감정이 아니라, 사회적 맥락 속에서 발전하고 변형되는 요소임을 보여줍니다. \\'기획회의 536호\\' 역시 이러한 사회적 요소와 개인의 감정을 연결짓는 고찰을 보여주고 있습니다.\\n\\n다음으로 **자바를 활용한 딥러닝**의 내용을 살펴보면, 창작과 현실 사이의 경계를 이해하는데 필요한 기술적 접근을 발견할 수 있습니다. 각종 알고리즘과 데이터 처리 기술이 발전하면서, 인간의 감정과 경험을 데이터로 표현하는 것이 가능해졌습니다. 이 책에서 제시하는 딥러닝의 실용적인 방법들은 사랑에 대한 우리의 접근 방식을 혁신적으로 변화시킬 수 있는 잠재력을 지니고 있습니다. 인공지능이 감정을 분석하고 예측하는 시대에, \\'기획회의 536호\\'는 이러한 기술이 사랑을 이해하는 데 어떤 역할을 할 수 있는지, 혹은 그 한계는 무엇인지에 대한 질문을 던집니다.\\n\\n마지막으로, **전공유아(2006년 교원임용고시 EBS 방송교재)**는 사랑의 본질을 이해하는 데 있어 교육의 중요성을 강조합니다. 어린 시절의 경험과 교육은 사랑을 이해하고 실천하는 방식에 큰 영향을 미칩니다. \\'기획회의 536호\\'는 이러한 배경을 바탕으로, 사랑의 진정한 모습이 어떻게 형성되는지를 탐구하며, 관계의 본질을 성찰하는 기회를 제공합니다.\\n\\n이처럼 사랑을 주제로 한 \\'기획회의 536호\\'의 심층적 탐구는 단순한 감정 그 이상의 의미를 담고 있습니다. 사랑은 창작의 원동력이자, 현실을 바라보는 시각이며, 그 경계에서 우리는 서로를 이해하고 연결되는 법을 배워 나갑니다. 이 책이 여러분의 사랑에 대한 관점을 한층 더 심화시키기를 바랍니다.\\n', additional_kwargs={}, response_metadata={}, id='1c1def4b-8307-470a-a7b6-16a63b79b0be')]}\n",
      "None\n",
      "\n",
      "---\n",
      "\n"
     ]
    },
    {
     "ename": "CancelledError",
     "evalue": "",
     "output_type": "error",
     "traceback": [
      "\u001B[0;31m---------------------------------------------------------------------------\u001B[0m",
      "\u001B[0;31mCancelledError\u001B[0m                            Traceback (most recent call last)",
      "Cell \u001B[0;32mIn[57], line 4\u001B[0m\n\u001B[1;32m      1\u001B[0m keyword \u001B[38;5;241m=\u001B[39m \u001B[38;5;28minput\u001B[39m(\u001B[38;5;124m\"\u001B[39m\u001B[38;5;124mEnter a keyword for the book letter\u001B[39m\u001B[38;5;124m\"\u001B[39m)\n\u001B[1;32m      3\u001B[0m inputs \u001B[38;5;241m=\u001B[39m {\u001B[38;5;124m\"\u001B[39m\u001B[38;5;124mkeyword\u001B[39m\u001B[38;5;124m\"\u001B[39m: keyword}\n\u001B[0;32m----> 4\u001B[0m \u001B[38;5;28;01masync\u001B[39;00m \u001B[38;5;28;01mfor\u001B[39;00m output \u001B[38;5;129;01min\u001B[39;00m graph\u001B[38;5;241m.\u001B[39mastream(inputs, stream_mode\u001B[38;5;241m=\u001B[39m\u001B[38;5;124m\"\u001B[39m\u001B[38;5;124mupdates\u001B[39m\u001B[38;5;124m\"\u001B[39m):\n\u001B[1;32m      5\u001B[0m     \u001B[38;5;66;03m# stream_mode=\"updates\" yields dictionaries with output keyed by node name\u001B[39;00m\n\u001B[1;32m      6\u001B[0m     \u001B[38;5;28;01mfor\u001B[39;00m key, value \u001B[38;5;129;01min\u001B[39;00m output\u001B[38;5;241m.\u001B[39mitems():\n\u001B[1;32m      7\u001B[0m         \u001B[38;5;28mprint\u001B[39m(\u001B[38;5;124mf\u001B[39m\u001B[38;5;124m\"\u001B[39m\u001B[38;5;124mOutput from node \u001B[39m\u001B[38;5;124m'\u001B[39m\u001B[38;5;132;01m{\u001B[39;00mkey\u001B[38;5;132;01m}\u001B[39;00m\u001B[38;5;124m'\u001B[39m\u001B[38;5;124m:\u001B[39m\u001B[38;5;124m\"\u001B[39m)\n",
      "File \u001B[0;32m~/.pyenv/versions/3.11.11/lib/python3.11/site-packages/langgraph/pregel/__init__.py:2626\u001B[0m, in \u001B[0;36mPregel.astream\u001B[0;34m(self, input, config, stream_mode, output_keys, interrupt_before, interrupt_after, debug, subgraphs)\u001B[0m\n\u001B[1;32m   2620\u001B[0m \u001B[38;5;66;03m# Similarly to Bulk Synchronous Parallel / Pregel model\u001B[39;00m\n\u001B[1;32m   2621\u001B[0m \u001B[38;5;66;03m# computation proceeds in steps, while there are channel updates\u001B[39;00m\n\u001B[1;32m   2622\u001B[0m \u001B[38;5;66;03m# channel updates from step N are only visible in step N+1\u001B[39;00m\n\u001B[1;32m   2623\u001B[0m \u001B[38;5;66;03m# channels are guaranteed to be immutable for the duration of the step,\u001B[39;00m\n\u001B[1;32m   2624\u001B[0m \u001B[38;5;66;03m# with channel updates applied only at the transition between steps\u001B[39;00m\n\u001B[1;32m   2625\u001B[0m \u001B[38;5;28;01mwhile\u001B[39;00m loop\u001B[38;5;241m.\u001B[39mtick(input_keys\u001B[38;5;241m=\u001B[39m\u001B[38;5;28mself\u001B[39m\u001B[38;5;241m.\u001B[39minput_channels):\n\u001B[0;32m-> 2626\u001B[0m     \u001B[38;5;28;01masync\u001B[39;00m \u001B[38;5;28;01mfor\u001B[39;00m _ \u001B[38;5;129;01min\u001B[39;00m runner\u001B[38;5;241m.\u001B[39matick(\n\u001B[1;32m   2627\u001B[0m         loop\u001B[38;5;241m.\u001B[39mtasks\u001B[38;5;241m.\u001B[39mvalues(),\n\u001B[1;32m   2628\u001B[0m         timeout\u001B[38;5;241m=\u001B[39m\u001B[38;5;28mself\u001B[39m\u001B[38;5;241m.\u001B[39mstep_timeout,\n\u001B[1;32m   2629\u001B[0m         retry_policy\u001B[38;5;241m=\u001B[39m\u001B[38;5;28mself\u001B[39m\u001B[38;5;241m.\u001B[39mretry_policy,\n\u001B[1;32m   2630\u001B[0m         get_waiter\u001B[38;5;241m=\u001B[39mget_waiter,\n\u001B[1;32m   2631\u001B[0m     ):\n\u001B[1;32m   2632\u001B[0m         \u001B[38;5;66;03m# emit output\u001B[39;00m\n\u001B[1;32m   2633\u001B[0m         \u001B[38;5;28;01mfor\u001B[39;00m o \u001B[38;5;129;01min\u001B[39;00m output():\n\u001B[1;32m   2634\u001B[0m             \u001B[38;5;28;01myield\u001B[39;00m o\n",
      "File \u001B[0;32m~/.pyenv/versions/3.11.11/lib/python3.11/site-packages/langgraph/pregel/runner.py:288\u001B[0m, in \u001B[0;36mPregelRunner.atick\u001B[0;34m(self, tasks, reraise, timeout, retry_policy, get_waiter)\u001B[0m\n\u001B[1;32m    286\u001B[0m t \u001B[38;5;241m=\u001B[39m tasks[\u001B[38;5;241m0\u001B[39m]\n\u001B[1;32m    287\u001B[0m \u001B[38;5;28;01mtry\u001B[39;00m:\n\u001B[0;32m--> 288\u001B[0m     \u001B[38;5;28;01mawait\u001B[39;00m arun_with_retry(\n\u001B[1;32m    289\u001B[0m         t,\n\u001B[1;32m    290\u001B[0m         retry_policy,\n\u001B[1;32m    291\u001B[0m         stream\u001B[38;5;241m=\u001B[39m\u001B[38;5;28mself\u001B[39m\u001B[38;5;241m.\u001B[39muse_astream,\n\u001B[1;32m    292\u001B[0m         configurable\u001B[38;5;241m=\u001B[39m{\n\u001B[1;32m    293\u001B[0m             CONFIG_KEY_CALL: partial(\n\u001B[1;32m    294\u001B[0m                 _acall,\n\u001B[1;32m    295\u001B[0m                 weakref\u001B[38;5;241m.\u001B[39mref(t),\n\u001B[1;32m    296\u001B[0m                 stream\u001B[38;5;241m=\u001B[39m\u001B[38;5;28mself\u001B[39m\u001B[38;5;241m.\u001B[39muse_astream,\n\u001B[1;32m    297\u001B[0m                 retry\u001B[38;5;241m=\u001B[39mretry_policy,\n\u001B[1;32m    298\u001B[0m                 futures\u001B[38;5;241m=\u001B[39mweakref\u001B[38;5;241m.\u001B[39mref(futures),\n\u001B[1;32m    299\u001B[0m                 schedule_task\u001B[38;5;241m=\u001B[39m\u001B[38;5;28mself\u001B[39m\u001B[38;5;241m.\u001B[39mschedule_task,\n\u001B[1;32m    300\u001B[0m                 submit\u001B[38;5;241m=\u001B[39m\u001B[38;5;28mself\u001B[39m\u001B[38;5;241m.\u001B[39msubmit,\n\u001B[1;32m    301\u001B[0m                 reraise\u001B[38;5;241m=\u001B[39mreraise,\n\u001B[1;32m    302\u001B[0m                 loop\u001B[38;5;241m=\u001B[39mloop,\n\u001B[1;32m    303\u001B[0m             ),\n\u001B[1;32m    304\u001B[0m         },\n\u001B[1;32m    305\u001B[0m     )\n\u001B[1;32m    306\u001B[0m     \u001B[38;5;28mself\u001B[39m\u001B[38;5;241m.\u001B[39mcommit(t, \u001B[38;5;28;01mNone\u001B[39;00m)\n\u001B[1;32m    307\u001B[0m \u001B[38;5;28;01mexcept\u001B[39;00m \u001B[38;5;167;01mException\u001B[39;00m \u001B[38;5;28;01mas\u001B[39;00m exc:\n",
      "File \u001B[0;32m~/.pyenv/versions/3.11.11/lib/python3.11/site-packages/langgraph/pregel/retry.py:128\u001B[0m, in \u001B[0;36marun_with_retry\u001B[0;34m(task, retry_policy, stream, configurable)\u001B[0m\n\u001B[1;32m    126\u001B[0m         \u001B[38;5;28;01mbreak\u001B[39;00m\n\u001B[1;32m    127\u001B[0m     \u001B[38;5;28;01melse\u001B[39;00m:\n\u001B[0;32m--> 128\u001B[0m         \u001B[38;5;28;01mreturn\u001B[39;00m \u001B[38;5;28;01mawait\u001B[39;00m task\u001B[38;5;241m.\u001B[39mproc\u001B[38;5;241m.\u001B[39mainvoke(task\u001B[38;5;241m.\u001B[39minput, config)\n\u001B[1;32m    129\u001B[0m \u001B[38;5;28;01mexcept\u001B[39;00m ParentCommand \u001B[38;5;28;01mas\u001B[39;00m exc:\n\u001B[1;32m    130\u001B[0m     ns: \u001B[38;5;28mstr\u001B[39m \u001B[38;5;241m=\u001B[39m config[CONF][CONFIG_KEY_CHECKPOINT_NS]\n",
      "File \u001B[0;32m~/.pyenv/versions/3.11.11/lib/python3.11/site-packages/langgraph/utils/runnable.py:643\u001B[0m, in \u001B[0;36mRunnableSeq.ainvoke\u001B[0;34m(self, input, config, **kwargs)\u001B[0m\n\u001B[1;32m    639\u001B[0m config \u001B[38;5;241m=\u001B[39m patch_config(\n\u001B[1;32m    640\u001B[0m     config, callbacks\u001B[38;5;241m=\u001B[39mrun_manager\u001B[38;5;241m.\u001B[39mget_child(\u001B[38;5;124mf\u001B[39m\u001B[38;5;124m\"\u001B[39m\u001B[38;5;124mseq:step:\u001B[39m\u001B[38;5;132;01m{\u001B[39;00mi\u001B[38;5;250m \u001B[39m\u001B[38;5;241m+\u001B[39m\u001B[38;5;250m \u001B[39m\u001B[38;5;241m1\u001B[39m\u001B[38;5;132;01m}\u001B[39;00m\u001B[38;5;124m\"\u001B[39m)\n\u001B[1;32m    641\u001B[0m )\n\u001B[1;32m    642\u001B[0m \u001B[38;5;28;01mif\u001B[39;00m i \u001B[38;5;241m==\u001B[39m \u001B[38;5;241m0\u001B[39m:\n\u001B[0;32m--> 643\u001B[0m     \u001B[38;5;28minput\u001B[39m \u001B[38;5;241m=\u001B[39m \u001B[38;5;28;01mawait\u001B[39;00m step\u001B[38;5;241m.\u001B[39mainvoke(\u001B[38;5;28minput\u001B[39m, config, \u001B[38;5;241m*\u001B[39m\u001B[38;5;241m*\u001B[39mkwargs)\n\u001B[1;32m    644\u001B[0m \u001B[38;5;28;01melse\u001B[39;00m:\n\u001B[1;32m    645\u001B[0m     \u001B[38;5;28minput\u001B[39m \u001B[38;5;241m=\u001B[39m \u001B[38;5;28;01mawait\u001B[39;00m step\u001B[38;5;241m.\u001B[39mainvoke(\u001B[38;5;28minput\u001B[39m, config)\n",
      "File \u001B[0;32m~/.pyenv/versions/3.11.11/lib/python3.11/site-packages/langgraph/utils/runnable.py:431\u001B[0m, in \u001B[0;36mRunnableCallable.ainvoke\u001B[0;34m(self, input, config, **kwargs)\u001B[0m\n\u001B[1;32m    429\u001B[0m \u001B[38;5;28;01mif\u001B[39;00m ASYNCIO_ACCEPTS_CONTEXT:\n\u001B[1;32m    430\u001B[0m     coro \u001B[38;5;241m=\u001B[39m cast(Coroutine[\u001B[38;5;28;01mNone\u001B[39;00m, \u001B[38;5;28;01mNone\u001B[39;00m, Any], \u001B[38;5;28mself\u001B[39m\u001B[38;5;241m.\u001B[39mafunc(\u001B[38;5;241m*\u001B[39margs, \u001B[38;5;241m*\u001B[39m\u001B[38;5;241m*\u001B[39mkwargs))\n\u001B[0;32m--> 431\u001B[0m     ret \u001B[38;5;241m=\u001B[39m \u001B[38;5;28;01mawait\u001B[39;00m asyncio\u001B[38;5;241m.\u001B[39mcreate_task(coro, context\u001B[38;5;241m=\u001B[39mcontext)\n\u001B[1;32m    432\u001B[0m \u001B[38;5;28;01melse\u001B[39;00m:\n\u001B[1;32m    433\u001B[0m     ret \u001B[38;5;241m=\u001B[39m \u001B[38;5;28;01mawait\u001B[39;00m \u001B[38;5;28mself\u001B[39m\u001B[38;5;241m.\u001B[39mafunc(\u001B[38;5;241m*\u001B[39margs, \u001B[38;5;241m*\u001B[39m\u001B[38;5;241m*\u001B[39mkwargs)\n",
      "File \u001B[0;32m~/.pyenv/versions/3.11.11/lib/python3.11/site-packages/langchain_core/runnables/config.py:616\u001B[0m, in \u001B[0;36mrun_in_executor\u001B[0;34m(executor_or_config, func, *args, **kwargs)\u001B[0m\n\u001B[1;32m    612\u001B[0m         \u001B[38;5;28;01mraise\u001B[39;00m \u001B[38;5;167;01mRuntimeError\u001B[39;00m \u001B[38;5;28;01mfrom\u001B[39;00m\u001B[38;5;250m \u001B[39m\u001B[38;5;21;01mexc\u001B[39;00m\n\u001B[1;32m    614\u001B[0m \u001B[38;5;28;01mif\u001B[39;00m executor_or_config \u001B[38;5;129;01mis\u001B[39;00m \u001B[38;5;28;01mNone\u001B[39;00m \u001B[38;5;129;01mor\u001B[39;00m \u001B[38;5;28misinstance\u001B[39m(executor_or_config, \u001B[38;5;28mdict\u001B[39m):\n\u001B[1;32m    615\u001B[0m     \u001B[38;5;66;03m# Use default executor with context copied from current context\u001B[39;00m\n\u001B[0;32m--> 616\u001B[0m     \u001B[38;5;28;01mreturn\u001B[39;00m \u001B[38;5;28;01mawait\u001B[39;00m asyncio\u001B[38;5;241m.\u001B[39mget_running_loop()\u001B[38;5;241m.\u001B[39mrun_in_executor(\n\u001B[1;32m    617\u001B[0m         \u001B[38;5;28;01mNone\u001B[39;00m,\n\u001B[1;32m    618\u001B[0m         cast(\u001B[38;5;124m\"\u001B[39m\u001B[38;5;124mCallable[..., T]\u001B[39m\u001B[38;5;124m\"\u001B[39m, partial(copy_context()\u001B[38;5;241m.\u001B[39mrun, wrapper)),\n\u001B[1;32m    619\u001B[0m     )\n\u001B[1;32m    621\u001B[0m \u001B[38;5;28;01mreturn\u001B[39;00m \u001B[38;5;28;01mawait\u001B[39;00m asyncio\u001B[38;5;241m.\u001B[39mget_running_loop()\u001B[38;5;241m.\u001B[39mrun_in_executor(executor_or_config, wrapper)\n",
      "\u001B[0;31mCancelledError\u001B[0m: "
     ]
    }
   ],
   "execution_count": 57
  },
  {
   "metadata": {},
   "cell_type": "code",
   "outputs": [],
   "execution_count": null,
   "source": [
    "## test\n",
    "import nest_asyncio\n",
    "nest_asyncio.apply()\n",
    "\n",
    "asyncio.run(search_sub_theme(\"사회적 문화에서의 눈물의 역할: 감정 표현의 다양성과 그 수용 양상\"))"
   ],
   "id": "37a26dac09c79d50"
  },
  {
   "metadata": {},
   "cell_type": "code",
   "outputs": [],
   "execution_count": null,
   "source": [
    "from IPython.display import Image, display\n",
    "\n",
    "try:\n",
    "    display(Image(graph.get_graph(xray=True).draw_mermaid_png()))\n",
    "except Exception:\n",
    "    # This requires some extra dependencies and is optional\n",
    "    pass"
   ],
   "id": "e4d1ceb060a2e6a0"
  },
  {
   "metadata": {},
   "cell_type": "code",
   "outputs": [],
   "execution_count": null,
   "source": [
    "test_state = {\n",
    "    'sub_theme_books': {\n",
    "        '사회적 문화에서의 눈물의 역할: 감정 표현의 다양성과 그 수용 양상': [\n",
    "            {\n",
    "                'title': '눈물의 의미: 감정의 표현과 신체적 반응 - blogmina.com',\n",
    "                'raw_content': '''간단설명\\체적 반응을 넘어서, 감정의 깊이를 나타내고, 사회적 관계를 더욱 강화하는 중요한 요소입니다. 눈물은 다양한 원인에 의해 발생하며, 그 목적은 눈을 보호하고, 감정을 해소하며, 사회적 상호작용을 돕는 것입니다. 감정적으로나 신체적으로 어려움을 겪을 때 흐르는 눈물은 우리에게 중요한 메시지를 전달하는 신호일 수 있으며, 이를 이해하는 것은 더 나은 사회적 관계를 만드는 데 기여할 수 있습니다.\\n\\n'''\n",
    "            },\n",
    "            {\n",
    "                'title': '눈물의 역사와 문화적 의미 : 네이버 ... - 네이버 블로그',\n",
    "                'raw_content': '''\\n\\n\\n\\n\\n\\n\\n\\n\\n\\n\\n\\n\\n\\n\\n\\n\\n\\n\\n\\n\\n\\n\\n\\n\\n\\n\\n\\n\\n\\n\\n\\n\\n\\n\\n\\n프롤로그블로그 | 지도서재안부\\n블로그\\n\\n\\n\\n |  | \\n | 전체보기574개의 글전체보기목록열기 | \\n전체보기 574개의 글\\n\\n |  | \\n, 다른 문화에서는 눈물을 힘과 인간성의 표시로 여깁니다.\\n\\n\\u200b\\n\\n눈물의 치유력\\n\\n\\u200b\\n\\n최근 연구에 따르면 눈물에는 치유력이 있는 것으로 나타났습니다. 눈물에는 스트레스 호르몬인 코르티솔이 포함되어 있으며, 눈물을 흘리면 스트레스와 긴장을 줄이는 데 도움이 될 수 있습니다. 또한, 눈물에는 항균 성분이 포함되어 있으며, 감염으로부터 눈을 보호하는 데 도움이 될 수 있습니다.\\n\\n\\u200b\\n\\n결론\\n\\n\\u200b\\n\\n눈물은 인간 경험의 필수적인 부분입니다. 그것은 감정을 표현하고, 소통하며, 치유하는 수단으로 오랜 역사와 문화적 의미를 지니고 있습니다. 눈물에 대한 우리의 이해는 우리가 다른 문화를 인정하고, 인간의 다양성을 축하하는 데 도움이 될 수 있습니다.\\n\\n'''\n",
    "            }\n",
    "        ]\n",
    "    },\n",
    "    'results': {}\n",
    "}\n",
    "\n",
    "## test\n",
    "\n",
    "asyncio.run(write_book_letter_section_async(test_state, '사회적 문화에서의 눈물의 역할: 감정 표현의 다양성과 그 수용 양상'))"
   ],
   "id": "ceea2d840171040d"
  },
  {
   "metadata": {},
   "cell_type": "markdown",
   "source": "",
   "id": "c12d06760e5f4737"
  }
 ],
 "metadata": {
  "kernelspec": {
   "name": "python3",
   "language": "python",
   "display_name": "Python 3 (ipykernel)"
  }
 },
 "nbformat": 5,
 "nbformat_minor": 9
}
